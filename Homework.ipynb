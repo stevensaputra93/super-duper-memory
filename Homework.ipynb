{
 "cells": [
  {
   "cell_type": "code",
   "execution_count": 9,
   "metadata": {},
   "outputs": [],
   "source": [
    "import requests\n",
    "from bs4 import BeautifulSoup\n",
    "\n",
    "url = \"https://athletics.baruch.cuny.edu/sports/mens-swimming-and-diving/roster\"\n",
    "page = requests.get(url)\n",
    "soup = BeautifulSoup(page.content, 'html.parser')\n",
    "men_swimming_height = soup.find_all('span', class_=\"sidearm-roster-player-height\")\n",
    "\n",
    "url1 = \"https://athletics.baruch.cuny.edu/sports/womens-swimming-and-diving/roster\"\n",
    "page1 = requests.get(url1)\n",
    "soup1 = BeautifulSoup(page1.content, 'html.parser')\n",
    "women_swimming_height = soup1.find_all('span', class_=\"sidearm-roster-player-height\")\n",
    "\n",
    "url2 = \"https://athletics.baruch.cuny.edu/sports/mens-volleyball/roster\"\n",
    "page2 = requests.get(url2)\n",
    "soup2 = BeautifulSoup(page2.content, 'html.parser')\n",
    "men_volleyball_height = soup2.find_all('span', class_=\"sidearm-roster-player-height\")\n",
    "\n",
    "url3 = \"https://athletics.baruch.cuny.edu/sports/womens-volleyball/roster\"\n",
    "page3 = requests.get(url3)\n",
    "soup3 = BeautifulSoup(page3.content, 'html.parser')\n",
    "women_volleyball_height = soup3.find_all('span', class_=\"sidearm-roster-player-height\")\n"
   ]
  },
  {
   "cell_type": "code",
   "execution_count": 20,
   "metadata": {},
   "outputs": [
    {
     "name": "stdout",
     "output_type": "stream",
     "text": [
      "average height for men's swimming team at baruch is 180.23 cm or 5.91 feet \n"
     ]
    }
   ],
   "source": [
    "#create new list to append all height from html\n",
    "swimminglist = []\n",
    "for x in men_swimming_height:\n",
    "    text = x.get_text()\n",
    "    split = text.split(\"'\")\n",
    "    swimminglist.append(split)\n",
    "#delete index 23-46 because its duplicate\n",
    "del swimminglist[23:47]\n",
    "\n",
    "#create new list to store feet and inches.\n",
    "feet = []\n",
    "inches = []\n",
    "for l in swimminglist:\n",
    "    feet.append(float(l[0]))\n",
    "    inch = l[1].strip('\"')\n",
    "    inches.append(float(inch))\n",
    "\n",
    "#find average man swimming team heigth\n",
    "Len = len(feet) #to find total element in list\n",
    "sum_feet = sum(feet) * 30.48 #convert feet to cm\n",
    "sum_inches = sum(inches) * 2.54 #convert inches to cm\n",
    "\n",
    "total_height = sum_feet + sum_inches \n",
    "average_height_in_cm = round(total_height / Len , 2)\n",
    "average_height_in_feet = round((total_height / 30.48 ) / Len , 2)\n",
    "\n",
    "\n",
    "print(\"average height for men's swimming team at baruch is {} cm or {} feet \".format(average_height_in_cm, average_height_in_feet))\n",
    "\n",
    "\n",
    "\n"
   ]
  },
  {
   "cell_type": "code",
   "execution_count": 11,
   "metadata": {},
   "outputs": [
    {
     "name": "stdout",
     "output_type": "stream",
     "text": [
      "average height for women's swimming team at baruch is 163.9 cm or 5.38 feet \n"
     ]
    }
   ],
   "source": [
    "#create new list to append all height from html\n",
    "women_swimminglist = []\n",
    "for x in women_swimming_height:\n",
    "    text = x.get_text()\n",
    "    split = text.split(\"'\")\n",
    "    women_swimminglist.append(split)\n",
    "#delete index 17-34 because its duplicate\n",
    "del women_swimminglist[17:34]\n",
    "\n",
    "#create new list to store feet and inches.\n",
    "women_feet = []\n",
    "women_inches = []\n",
    "for l in women_swimminglist:\n",
    "    women_feet.append(float(l[0]))\n",
    "    inch = l[1].strip('\"')\n",
    "    women_inches.append(float(inch))\n",
    "\n",
    "#find average women swimming team heigth\n",
    "women_swim_team_total_player = len(women_feet) #to find total element in list\n",
    "women_sum_feet = sum(women_feet) * 30.48 #convert feet to cm\n",
    "women_sum_inches = sum(women_inches) * 2.54 #convert inches to cm\n",
    "\n",
    "women_total_height = women_sum_feet + women_sum_inches \n",
    "women_average_height_in_cm = round(women_total_height / women_swim_team_total_player , 2)\n",
    "women_average_height_in_feet = round((women_total_height / 30.48 ) / women_swim_team_total_player , 2)\n",
    "\n",
    "\n",
    "print(\"average height for women's swimming team at baruch is {} cm or {} feet \".format(women_average_height_in_cm, women_average_height_in_feet))\n",
    "\n",
    "\n"
   ]
  },
  {
   "cell_type": "code",
   "execution_count": 12,
   "metadata": {},
   "outputs": [
    {
     "name": "stdout",
     "output_type": "stream",
     "text": [
      "average height for men's volley team at baruch is 186.76 cm or 6.13 feet \n"
     ]
    }
   ],
   "source": [
    "#create new list to append all height from html\n",
    "volleylist = []\n",
    "for x in men_volleyball_height:\n",
    "    text = x.get_text()\n",
    "    split = text.split(\"'\")\n",
    "    volleylist.append(split)\n",
    "#there are only 17 players\n",
    "del volleylist[17:35]\n",
    "\n",
    "#create new list to store feet and inches.\n",
    "menvolley_feet = []\n",
    "menvolley_inches = []\n",
    "for l in volleylist:\n",
    "    menvolley_feet.append(float(l[0]))\n",
    "    inch = l[1].strip('\"')\n",
    "    menvolley_inches.append(float(inch))\n",
    "\n",
    "#find average men's volley team heigth\n",
    "volley_total_player = len(volleylist) #to find total element in list\n",
    "volley_sum_feet = sum(menvolley_feet) * 30.48 #convert feet to cm\n",
    "volley_sum_inches = sum(menvolley_inches) * 2.54 #convert inches to cm\n",
    "\n",
    "volley_total_height = volley_sum_feet + volley_sum_inches\n",
    "volley_men_average_height_in_cm = round(volley_total_height / volley_total_player , 2)\n",
    "volley_men_average_height_in_feet = round((volley_total_height / 30.48 ) / volley_total_player , 2)\n",
    "\n",
    "\n",
    "print(\"average height for men's volley team at baruch is {} cm or {} feet \".format(volley_men_average_height_in_cm,volley_men_average_height_in_feet))\n",
    "\n",
    "\n",
    "\n"
   ]
  },
  {
   "cell_type": "code",
   "execution_count": 18,
   "metadata": {},
   "outputs": [
    {
     "name": "stdout",
     "output_type": "stream",
     "text": [
      "average height for men's volley team at baruch is 167.1 cm or 5.48 feet \n"
     ]
    }
   ],
   "source": [
    "#create new list to append all height from html\n",
    "women_volleylist = []\n",
    "for x in women_volleyball_height:\n",
    "    text = x.get_text()\n",
    "    split = text.split(\"'\")\n",
    "    women_volleylist.append(split)\n",
    "del women_volleylist[14:29]\n",
    "\n",
    "#create new list to store feet and inches.\n",
    "womenvolley_feet = []\n",
    "womenvolley_inches = []\n",
    "for l in women_volleylist:\n",
    "    womenvolley_feet.append(float(l[0]))\n",
    "    inch = l[1].strip('\"')\n",
    "    womenvolley_inches.append(float(inch))\n",
    "\n",
    "#find average women's volley team heigth\n",
    "w_volley_total_player = len(women_volleylist) #to find total element in list\n",
    "w_volley_sum_feet = sum(womenvolley_feet) * 30.48 #convert feet to cm\n",
    "w_volley_sum_inches = sum(womenvolley_inches) * 2.54 #convert inches to cm\n",
    "\n",
    "wvolley_total_height = w_volley_sum_feet + w_volley_sum_inches\n",
    "volley_women_average_height_in_cm = round(wvolley_total_height / w_volley_total_player , 2)\n",
    "volley_women_average_height_in_feet = round((wvolley_total_height / 30.48 ) / w_volley_total_player , 2)\n",
    "\n",
    "\n",
    "print(\"average height for men's volley team at baruch is {} cm or {} feet \".format(volley_women_average_height_in_cm,volley_women_average_height_in_feet))\n",
    "\n"
   ]
  },
  {
   "cell_type": "markdown",
   "metadata": {},
   "source": [
    "finding:"
   ]
  },
  {
   "cell_type": "code",
   "execution_count": 25,
   "metadata": {},
   "outputs": [
    {
     "name": "stdout",
     "output_type": "stream",
     "text": [
      "from data that we get from Baruch website, we can conclude that Volley Team Player are taller than Swimming Team Player. As we can see from data above that men's volley team has average height 6.13 feet, taller than men's swimming team with average 5.91 feet\n"
     ]
    }
   ],
   "source": [
    "print('from data that we get from Baruch website, we can conclude that Volley Team Player are taller than Swimming Team Player. '\n",
    "     \"As we can see from data above that men's volley team has average height {} feet, taller than men's swimming team with average {} feet\".format(volley_men_average_height_in_feet, average_height_in_feet))"
   ]
  },
  {
   "cell_type": "code",
   "execution_count": null,
   "metadata": {},
   "outputs": [],
   "source": []
  }
 ],
 "metadata": {
  "kernelspec": {
   "display_name": "Python 3",
   "language": "python",
   "name": "python3"
  },
  "language_info": {
   "codemirror_mode": {
    "name": "ipython",
    "version": 3
   },
   "file_extension": ".py",
   "mimetype": "text/x-python",
   "name": "python",
   "nbconvert_exporter": "python",
   "pygments_lexer": "ipython3",
   "version": "3.7.6"
  }
 },
 "nbformat": 4,
 "nbformat_minor": 4
}
