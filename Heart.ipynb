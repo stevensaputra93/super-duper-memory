{
 "cells": [
  {
   "cell_type": "markdown",
   "metadata": {},
   "source": [
    "# A Comparative Analysis of Machine Learning Algorithms In Predicting Chances of Getting A Heart Disease\n",
    "\n",
    "## Objective\n",
    "- is it true that high blood pressure raises the risk of having a heart attack?\n",
    "- is there a correlation between different types of chest pain and the possibility of having a heart attack?\n",
    "- is the cholesterol level eventually a risk factor for a heart attack in a certain gender?\n"
   ]
  },
  {
   "cell_type": "markdown",
   "metadata": {},
   "source": [
    "### Data Uploading"
   ]
  },
  {
   "cell_type": "code",
   "execution_count": 1,
   "metadata": {
    "scrolled": true
   },
   "outputs": [
    {
     "name": "stderr",
     "output_type": "stream",
     "text": [
      "Warning message:\n",
      "\"package 'tidyverse' was built under R version 3.6.3\"-- Attaching packages --------------------------------------- tidyverse 1.3.0 --\n",
      "v ggplot2 3.3.3     v purrr   0.3.4\n",
      "v tibble  3.1.0     v dplyr   1.0.5\n",
      "v tidyr   1.1.3     v stringr 1.4.0\n",
      "v readr   1.4.0     v forcats 0.5.1\n",
      "Warning message:\n",
      "\"package 'ggplot2' was built under R version 3.6.3\"Warning message:\n",
      "\"package 'tibble' was built under R version 3.6.3\"Warning message:\n",
      "\"package 'tidyr' was built under R version 3.6.3\"Warning message:\n",
      "\"package 'readr' was built under R version 3.6.3\"Warning message:\n",
      "\"package 'purrr' was built under R version 3.6.3\"Warning message:\n",
      "\"package 'dplyr' was built under R version 3.6.3\"Warning message:\n",
      "\"package 'stringr' was built under R version 3.6.3\"Warning message:\n",
      "\"package 'forcats' was built under R version 3.6.3\"-- Conflicts ------------------------------------------ tidyverse_conflicts() --\n",
      "x dplyr::filter() masks stats::filter()\n",
      "x dplyr::lag()    masks stats::lag()\n",
      "Warning message:\n",
      "\"package 'caret' was built under R version 3.6.3\"Loading required package: lattice\n",
      "Warning message:\n",
      "\"package 'lattice' was built under R version 3.6.3\"\n",
      "Attaching package: 'caret'\n",
      "\n",
      "The following object is masked from 'package:purrr':\n",
      "\n",
      "    lift\n",
      "\n",
      "Warning message:\n",
      "\"package 'gridExtra' was built under R version 3.6.3\"\n",
      "Attaching package: 'gridExtra'\n",
      "\n",
      "The following object is masked from 'package:dplyr':\n",
      "\n",
      "    combine\n",
      "\n",
      "Warning message:\n",
      "\"package 'GGally' was built under R version 3.6.3\"Registered S3 method overwritten by 'GGally':\n",
      "  method from   \n",
      "  +.gg   ggplot2\n",
      "Warning message:\n",
      "\"package 'rpart' was built under R version 3.6.3\"Warning message:\n",
      "\"package 'rpart.plot' was built under R version 3.6.3\"Warning message:\n",
      "\"package 'corrplot' was built under R version 3.6.3\"corrplot 0.84 loaded\n",
      "Warning message:\n",
      "\"package 'mlbench' was built under R version 3.6.3\"Warning message:\n",
      "\"package 'randomForest' was built under R version 3.6.3\"randomForest 4.6-14\n",
      "Type rfNews() to see new features/changes/bug fixes.\n",
      "\n",
      "Attaching package: 'randomForest'\n",
      "\n",
      "The following object is masked from 'package:gridExtra':\n",
      "\n",
      "    combine\n",
      "\n",
      "The following object is masked from 'package:dplyr':\n",
      "\n",
      "    combine\n",
      "\n",
      "The following object is masked from 'package:ggplot2':\n",
      "\n",
      "    margin\n",
      "\n",
      "Warning message:\n",
      "\"package 'caTools' was built under R version 3.6.3\"Warning message:\n",
      "\"package 'party' was built under R version 3.6.3\"Loading required package: mvtnorm\n",
      "Warning message:\n",
      "\"package 'mvtnorm' was built under R version 3.6.3\"Loading required package: modeltools\n",
      "Warning message:\n",
      "\"package 'modeltools' was built under R version 3.6.3\"Loading required package: stats4\n",
      "Loading required package: strucchange\n",
      "Warning message:\n",
      "\"package 'strucchange' was built under R version 3.6.3\"Loading required package: zoo\n",
      "Warning message:\n",
      "\"package 'zoo' was built under R version 3.6.3\"\n",
      "Attaching package: 'zoo'\n",
      "\n",
      "The following objects are masked from 'package:base':\n",
      "\n",
      "    as.Date, as.Date.numeric\n",
      "\n",
      "Loading required package: sandwich\n",
      "Warning message:\n",
      "\"package 'sandwich' was built under R version 3.6.3\"\n",
      "Attaching package: 'strucchange'\n",
      "\n",
      "The following object is masked from 'package:stringr':\n",
      "\n",
      "    boundary\n",
      "\n",
      "Warning message:\n",
      "\"package 'magrittr' was built under R version 3.6.3\"\n",
      "Attaching package: 'magrittr'\n",
      "\n",
      "The following object is masked from 'package:purrr':\n",
      "\n",
      "    set_names\n",
      "\n",
      "The following object is masked from 'package:tidyr':\n",
      "\n",
      "    extract\n",
      "\n",
      "Warning message:\n",
      "\"package 'e1071' was built under R version 3.6.3\"Warning message:\n",
      "\"package 'ggcorrplot' was built under R version 3.6.3\"\n",
      "Attaching package: 'kernlab'\n",
      "\n",
      "The following object is masked from 'package:modeltools':\n",
      "\n",
      "    prior\n",
      "\n",
      "The following object is masked from 'package:purrr':\n",
      "\n",
      "    cross\n",
      "\n",
      "The following object is masked from 'package:ggplot2':\n",
      "\n",
      "    alpha\n",
      "\n",
      "Warning message:\n",
      "\"package 'mice' was built under R version 3.6.3\"\n",
      "Attaching package: 'mice'\n",
      "\n",
      "The following object is masked from 'package:stats':\n",
      "\n",
      "    filter\n",
      "\n",
      "The following objects are masked from 'package:base':\n",
      "\n",
      "    cbind, rbind\n",
      "\n",
      "Warning message:\n",
      "\"package 'pscl' was built under R version 3.6.3\"Classes and Methods for R developed in the\n",
      "Political Science Computational Laboratory\n",
      "Department of Political Science\n",
      "Stanford University\n",
      "Simon Jackman\n",
      "hurdle and zeroinfl functions by Achim Zeileis\n",
      "Warning message:\n",
      "\"package 'car' was built under R version 3.6.3\"Loading required package: carData\n",
      "Warning message:\n",
      "\"package 'carData' was built under R version 3.6.3\"\n",
      "Attaching package: 'car'\n",
      "\n",
      "The following object is masked from 'package:modeltools':\n",
      "\n",
      "    Predict\n",
      "\n",
      "The following object is masked from 'package:dplyr':\n",
      "\n",
      "    recode\n",
      "\n",
      "The following object is masked from 'package:purrr':\n",
      "\n",
      "    some\n",
      "\n",
      "Warning message:\n",
      "\"package 'plyr' was built under R version 3.6.3\"------------------------------------------------------------------------------\n",
      "You have loaded plyr after dplyr - this is likely to cause problems.\n",
      "If you need functions from both plyr and dplyr, please load plyr first, then dplyr:\n",
      "library(plyr); library(dplyr)\n",
      "------------------------------------------------------------------------------\n",
      "\n",
      "Attaching package: 'plyr'\n",
      "\n",
      "The following object is masked from 'package:modeltools':\n",
      "\n",
      "    empty\n",
      "\n",
      "The following objects are masked from 'package:dplyr':\n",
      "\n",
      "    arrange, count, desc, failwith, id, mutate, rename, summarise,\n",
      "    summarize\n",
      "\n",
      "The following object is masked from 'package:purrr':\n",
      "\n",
      "    compact\n",
      "\n"
     ]
    }
   ],
   "source": [
    "## Importing packages\n",
    "\n",
    "library(datasets)\n",
    "library(tidyverse) \n",
    "library(caret)\n",
    "library(grid)\n",
    "library(gridExtra)\n",
    "library(GGally)\n",
    "library(rpart)\n",
    "library(rpart.plot)\n",
    "library(corrplot)\n",
    "library(mlbench)\n",
    "library(ggplot2)\n",
    "library(dplyr)\n",
    "library(randomForest)  \n",
    "library(caTools) \n",
    "library(party) \n",
    "library(magrittr)\n",
    "library(tidyverse)\n",
    "library(e1071)\n",
    "library(ggcorrplot)\n",
    "library(kernlab)\n",
    "library(mice)\n",
    "library(pscl)\n",
    "library(car)\n",
    "library(plyr)"
   ]
  },
  {
   "cell_type": "code",
   "execution_count": 2,
   "metadata": {},
   "outputs": [],
   "source": [
    "fig <- function(width, heigth){\n",
    "     options(repr.plot.width = width, repr.plot.height = heigth)\n",
    "}"
   ]
  },
  {
   "cell_type": "code",
   "execution_count": 3,
   "metadata": {
    "scrolled": true
   },
   "outputs": [
    {
     "data": {
      "text/plain": [
       "\n",
       "  0   1 \n",
       "138 165 "
      ]
     },
     "metadata": {},
     "output_type": "display_data"
    }
   ],
   "source": [
    "heart <- read.csv(\"heart.csv\", header=T)\n",
    "table(heart$output)"
   ]
  },
  {
   "cell_type": "markdown",
   "metadata": {},
   "source": [
    "### Data Cleaning"
   ]
  },
  {
   "cell_type": "code",
   "execution_count": 4,
   "metadata": {},
   "outputs": [
    {
     "name": "stdout",
     "output_type": "stream",
     "text": [
      "Rows: 303\n",
      "Columns: 14\n",
      "$ age                   <int> 53, 52, 63, 57, 52, 41, 57, 66, 56, 57, 65, 64, ~\n",
      "$ sex                   <int> 0, 1, 1, 1, 1, 1, 1, 1, 1, 1, 1, 1, 1, 1, 1, 1, ~\n",
      "$ Chest_Pain            <int> 2, 0, 3, 0, 3, 1, 0, 0, 2, 0, 0, 0, 0, 1, 0, 2, ~\n",
      "$ Rest_blood_pressure   <int> 128, 128, 145, 140, 118, 135, 110, 160, 130, 150~\n",
      "$ chol                  <int> 216, 204, 233, 192, 186, 203, 201, 228, 256, 276~\n",
      "$ Fast_blood_sugar      <int> 0, 1, 1, 0, 0, 0, 0, 0, 1, 0, 0, 0, 0, 0, 0, 1, ~\n",
      "$ Resting_result        <int> 0, 1, 0, 1, 0, 1, 1, 0, 0, 0, 0, 0, 0, 1, 1, 1, ~\n",
      "$ Max_heart_rate        <int> 115, 156, 150, 148, 190, 132, 126, 138, 142, 112~\n",
      "$ Exercise_induce_Agina <int> 0, 1, 0, 0, 0, 0, 1, 0, 1, 1, 0, 0, 1, 1, 1, 0, ~\n",
      "$ oldpeak               <dbl> 0.0, 1.0, 2.3, 0.4, 0.0, 0.0, 1.5, 2.3, 0.6, 0.6~\n",
      "$ Slope                 <int> 2, 1, 0, 1, 1, 1, 1, 2, 1, 1, 2, 1, 1, 1, 1, 1, ~\n",
      "$ Number_.of_vessel     <int> 0, 0, 0, 0, 0, 0, 0, 0, 1, 1, 2, 2, 1, 3, 0, 1, ~\n",
      "$ thall_Rate            <int> 2, 1, 1, 1, 1, 1, 1, 1, 1, 1, 1, 1, 1, 1, 1, 1, ~\n",
      "$ output                <int> 1, 0, 1, 1, 1, 1, 1, 1, 0, 0, 0, 0, 0, 0, 0, 0, ~\n"
     ]
    }
   ],
   "source": [
    "glimpse(heart)"
   ]
  },
  {
   "cell_type": "code",
   "execution_count": 5,
   "metadata": {},
   "outputs": [],
   "source": [
    "heart[heart == \"?\"] <- NA"
   ]
  },
  {
   "cell_type": "raw",
   "metadata": {},
   "source": [
    "heart[heart$sex == 0,]$sex <- \"Female\"\n",
    "heart[heart$sex == 1,]$sex <- \"Male\"\n",
    "heart[heart$output == 0,]$output <- \"NO\"\n",
    "heart[heart$output == 1,]$output <- \"I\""
   ]
  },
  {
   "cell_type": "raw",
   "metadata": {},
   "source": [
    "heart[heart$thall_Rate == 1,]$thall_Rate <- \"normal\"\n",
    "heart[heart$thall_Rate == 2,]$thall_Rate <- \"fixed_defect\"\n",
    "heart[heart$thall_Rate == 3,]$thall_Rate <- \"reversible_defect\"\n",
    "\n",
    "heart[heart$Chest_Pain == 0,]$Chest_Pain <- \"Typical_Angina\"\n",
    "heart[heart$Chest_Pain == 1,]$Chest_Pain <- \"Atypical_Angina\"\n",
    "heart[heart$Chest_Pain == 2,]$Chest_Pain <- \"Non-Anginal_Pain\"\n",
    "heart[heart$Chest_Pain == 3,]$Chest_Pain <- \"Asymptomatic\""
   ]
  },
  {
   "cell_type": "code",
   "execution_count": 6,
   "metadata": {},
   "outputs": [
    {
     "name": "stdout",
     "output_type": "stream",
     "text": [
      "'data.frame':\t303 obs. of  14 variables:\n",
      " $ age                  : int  53 52 63 57 52 41 57 66 56 57 ...\n",
      " $ sex                  : Factor w/ 2 levels \"0\",\"1\": 1 2 2 2 2 2 2 2 2 2 ...\n",
      " $ Chest_Pain           : Factor w/ 4 levels \"0\",\"1\",\"2\",\"3\": 3 1 4 1 4 2 1 1 3 1 ...\n",
      " $ Rest_blood_pressure  : int  128 128 145 140 118 135 110 160 130 150 ...\n",
      " $ chol                 : int  216 204 233 192 186 203 201 228 256 276 ...\n",
      " $ Fast_blood_sugar     : Factor w/ 2 levels \"0\",\"1\": 1 2 2 1 1 1 1 1 2 1 ...\n",
      " $ Resting_result       : Factor w/ 3 levels \"0\",\"1\",\"2\": 1 2 1 2 1 2 2 1 1 1 ...\n",
      " $ Max_heart_rate       : int  115 156 150 148 190 132 126 138 142 112 ...\n",
      " $ Exercise_induce_Agina: Factor w/ 2 levels \"0\",\"1\": 1 2 1 1 1 1 2 1 2 2 ...\n",
      " $ oldpeak              : num  0 1 2.3 0.4 0 0 1.5 2.3 0.6 0.6 ...\n",
      " $ Slope                : Factor w/ 3 levels \"0\",\"1\",\"2\": 3 2 1 2 2 2 2 3 2 2 ...\n",
      " $ Number_.of_vessel    : Factor w/ 5 levels \"0\",\"1\",\"2\",\"3\",..: 1 1 1 1 1 1 1 1 2 2 ...\n",
      " $ thall_Rate           : Factor w/ 3 levels \"1\",\"2\",\"3\": 2 1 1 1 1 1 1 1 1 1 ...\n",
      " $ output               : Factor w/ 2 levels \"0\",\"1\": 2 1 2 2 2 2 2 2 1 1 ...\n"
     ]
    }
   ],
   "source": [
    "heart$output <- as.factor(heart$output)\n",
    "heart$Chest_Pain <- as.factor(heart$Chest_Pain)\n",
    "heart$sex <- as.factor(heart$sex)\n",
    "heart$Fast_blood_sugar <- as.factor(heart$Fast_blood_sugar)\n",
    "heart$Resting_result <- as.factor(heart$Resting_result)\n",
    "heart$Exercise_induce_Agina <- as.factor(heart$Exercise_induce_Agina)\n",
    "heart$Slope <- as.factor(heart$Slope)\n",
    "heart$Number_.of_vessel <- as.factor(heart$Number_.of_vessel)\n",
    "heart$thall_Rate <- as.factor(heart$thall_Rate)\n",
    "str(heart)"
   ]
  },
  {
   "cell_type": "code",
   "execution_count": 7,
   "metadata": {},
   "outputs": [
    {
     "data": {
      "text/plain": [
       "infection\n",
       "No_Disease    Disease \n",
       "       138        165 "
      ]
     },
     "metadata": {},
     "output_type": "display_data"
    }
   ],
   "source": [
    "levels(heart$sex) <- c(\"Female\", \"Male\")\n",
    "levels(heart$thall_Rate) <- c(\"normal\", \"fixed_defect\",\"reversible_defect\")\n",
    "levels(heart$Chest_Pain) <- c(\"Typical_Angina\", \"Atypical_Angina\",\"Non-Anginal_Pain\",\"Asymptomatic\")\n",
    "levels(heart$output) <- c(\"No_Disease\", \"Disease\")\n",
    "\n",
    "infection <- heart$output\n",
    "table(infection)"
   ]
  },
  {
   "cell_type": "markdown",
   "metadata": {},
   "source": [
    "### Data Analysis"
   ]
  },
  {
   "cell_type": "code",
   "execution_count": 8,
   "metadata": {},
   "outputs": [
    {
     "data": {
      "text/plain": [
       "gender\n",
       "Female   Male \n",
       "    96    207 "
      ]
     },
     "metadata": {},
     "output_type": "display_data"
    }
   ],
   "source": [
    "gender <- heart$sex\n",
    "\n",
    "table(gender)"
   ]
  },
  {
   "cell_type": "code",
   "execution_count": 51,
   "metadata": {},
   "outputs": [
    {
     "data": {
      "image/png": "[encoded data removed]",
      "text/plain": [
       "plot without title"
      ]
     },
     "metadata": {},
     "output_type": "display_data"
    }
   ],
   "source": [
    "ggplot(heart) +\n",
    "  aes(x = sex, fill = output) + # fill by years\n",
    "  geom_bar()"
   ]
  },
  {
   "cell_type": "code",
   "execution_count": 52,
   "metadata": {},
   "outputs": [
    {
     "data": {
      "image/png": "[encoded data removed]",
      "text/plain": [
       "plot without title"
      ]
     },
     "metadata": {},
     "output_type": "display_data"
    }
   ],
   "source": [
    "ggplot(heart) +\n",
    "  aes(x = Chest_Pain, fill = output) + # fill by years\n",
    "  geom_bar()"
   ]
  },
  {
   "cell_type": "code",
   "execution_count": 53,
   "metadata": {},
   "outputs": [
    {
     "data": {
      "image/png": "[encoded data removed]",
      "text/plain": [
       "plot without title"
      ]
     },
     "metadata": {},
     "output_type": "display_data"
    }
   ],
   "source": [
    "ggplot(heart) +\n",
    "  aes(x = thall_Rate, fill = output) + # fill by years\n",
    "  geom_bar()"
   ]
  },
  {
   "cell_type": "code",
   "execution_count": 56,
   "metadata": {},
   "outputs": [
    {
     "data": {
      "image/png": "[encoded data removed]",
      "text/plain": [
       "plot without title"
      ]
     },
     "metadata": {},
     "output_type": "display_data"
    }
   ],
   "source": [
    "ggplot(heart) +\n",
    "  aes(x = thall_Rate, fill = chol ) + # fill by years\n",
    "  geom_bar()"
   ]
  },
  {
   "cell_type": "code",
   "execution_count": 9,
   "metadata": {},
   "outputs": [
    {
     "data": {
      "text/html": [
       "<table>\n",
       "<thead><tr><th scope=col>age</th><th scope=col>sex</th><th scope=col>Chest_Pain</th><th scope=col>Rest_blood_pressure</th><th scope=col>chol</th><th scope=col>Fast_blood_sugar</th><th scope=col>Resting_result</th><th scope=col>Max_heart_rate</th><th scope=col>Exercise_induce_Agina</th><th scope=col>oldpeak</th><th scope=col>Slope</th><th scope=col>Number_.of_vessel</th><th scope=col>thall_Rate</th><th scope=col>output</th></tr></thead>\n",
       "<tbody>\n",
       "\t<tr><td>53              </td><td>Female          </td><td>Non-Anginal_Pain</td><td>128             </td><td>216             </td><td>0               </td><td>0               </td><td>115             </td><td>0               </td><td>0.0             </td><td>2               </td><td>0               </td><td>fixed_defect    </td><td>Disease         </td></tr>\n",
       "\t<tr><td>52              </td><td>Male            </td><td>Typical_Angina  </td><td>128             </td><td>204             </td><td>1               </td><td>1               </td><td>156             </td><td>1               </td><td>1.0             </td><td>1               </td><td>0               </td><td>normal          </td><td>No_Disease      </td></tr>\n",
       "\t<tr><td>63              </td><td>Male            </td><td>Asymptomatic    </td><td>145             </td><td>233             </td><td>1               </td><td>0               </td><td>150             </td><td>0               </td><td>2.3             </td><td>0               </td><td>0               </td><td>normal          </td><td>Disease         </td></tr>\n",
       "\t<tr><td>57              </td><td>Male            </td><td>Typical_Angina  </td><td>140             </td><td>192             </td><td>0               </td><td>1               </td><td>148             </td><td>0               </td><td>0.4             </td><td>1               </td><td>0               </td><td>normal          </td><td>Disease         </td></tr>\n",
       "\t<tr><td>52              </td><td>Male            </td><td>Asymptomatic    </td><td>118             </td><td>186             </td><td>0               </td><td>0               </td><td>190             </td><td>0               </td><td>0.0             </td><td>1               </td><td>0               </td><td>normal          </td><td>Disease         </td></tr>\n",
       "\t<tr><td>41              </td><td>Male            </td><td>Atypical_Angina </td><td>135             </td><td>203             </td><td>0               </td><td>1               </td><td>132             </td><td>0               </td><td>0.0             </td><td>1               </td><td>0               </td><td>normal          </td><td>Disease         </td></tr>\n",
       "</tbody>\n",
       "</table>\n"
      ],
      "text/latex": [
       "\\begin{tabular}{r|llllllllllllll}\n",
       " age & sex & Chest\\_Pain & Rest\\_blood\\_pressure & chol & Fast\\_blood\\_sugar & Resting\\_result & Max\\_heart\\_rate & Exercise\\_induce\\_Agina & oldpeak & Slope & Number\\_.of\\_vessel & thall\\_Rate & output\\\\\n",
       "\\hline\n",
       "\t 53                 & Female             & Non-Anginal\\_Pain & 128                & 216                & 0                  & 0                  & 115                & 0                  & 0.0                & 2                  & 0                  & fixed\\_defect     & Disease           \\\\\n",
       "\t 52                 & Male               & Typical\\_Angina   & 128                & 204                & 1                  & 1                  & 156                & 1                  & 1.0                & 1                  & 0                  & normal             & No\\_Disease      \\\\\n",
       "\t 63               & Male             & Asymptomatic     & 145              & 233              & 1                & 0                & 150              & 0                & 2.3              & 0                & 0                & normal           & Disease         \\\\\n",
       "\t 57                 & Male               & Typical\\_Angina   & 140                & 192                & 0                  & 1                  & 148                & 0                  & 0.4                & 1                  & 0                  & normal             & Disease           \\\\\n",
       "\t 52               & Male             & Asymptomatic     & 118              & 186              & 0                & 0                & 190              & 0                & 0.0              & 1                & 0                & normal           & Disease         \\\\\n",
       "\t 41                 & Male               & Atypical\\_Angina  & 135                & 203                & 0                  & 1                  & 132                & 0                  & 0.0                & 1                  & 0                  & normal             & Disease           \\\\\n",
       "\\end{tabular}\n"
      ],
      "text/markdown": [
       "\n",
       "| age | sex | Chest_Pain | Rest_blood_pressure | chol | Fast_blood_sugar | Resting_result | Max_heart_rate | Exercise_induce_Agina | oldpeak | Slope | Number_.of_vessel | thall_Rate | output |\n",
       "|---|---|---|---|---|---|---|---|---|---|---|---|---|---|\n",
       "| 53               | Female           | Non-Anginal_Pain | 128              | 216              | 0                | 0                | 115              | 0                | 0.0              | 2                | 0                | fixed_defect     | Disease          |\n",
       "| 52               | Male             | Typical_Angina   | 128              | 204              | 1                | 1                | 156              | 1                | 1.0              | 1                | 0                | normal           | No_Disease       |\n",
       "| 63               | Male             | Asymptomatic     | 145              | 233              | 1                | 0                | 150              | 0                | 2.3              | 0                | 0                | normal           | Disease          |\n",
       "| 57               | Male             | Typical_Angina   | 140              | 192              | 0                | 1                | 148              | 0                | 0.4              | 1                | 0                | normal           | Disease          |\n",
       "| 52               | Male             | Asymptomatic     | 118              | 186              | 0                | 0                | 190              | 0                | 0.0              | 1                | 0                | normal           | Disease          |\n",
       "| 41               | Male             | Atypical_Angina  | 135              | 203              | 0                | 1                | 132              | 0                | 0.0              | 1                | 0                | normal           | Disease          |\n",
       "\n"
      ],
      "text/plain": [
       "  age sex    Chest_Pain       Rest_blood_pressure chol Fast_blood_sugar\n",
       "1 53  Female Non-Anginal_Pain 128                 216  0               \n",
       "2 52  Male   Typical_Angina   128                 204  1               \n",
       "3 63  Male   Asymptomatic     145                 233  1               \n",
       "4 57  Male   Typical_Angina   140                 192  0               \n",
       "5 52  Male   Asymptomatic     118                 186  0               \n",
       "6 41  Male   Atypical_Angina  135                 203  0               \n",
       "  Resting_result Max_heart_rate Exercise_induce_Agina oldpeak Slope\n",
       "1 0              115            0                     0.0     2    \n",
       "2 1              156            1                     1.0     1    \n",
       "3 0              150            0                     2.3     0    \n",
       "4 1              148            0                     0.4     1    \n",
       "5 0              190            0                     0.0     1    \n",
       "6 1              132            0                     0.0     1    \n",
       "  Number_.of_vessel thall_Rate   output    \n",
       "1 0                 fixed_defect Disease   \n",
       "2 0                 normal       No_Disease\n",
       "3 0                 normal       Disease   \n",
       "4 0                 normal       Disease   \n",
       "5 0                 normal       Disease   \n",
       "6 0                 normal       Disease   "
      ]
     },
     "metadata": {},
     "output_type": "display_data"
    },
    {
     "data": {
      "text/plain": [
       "      age            sex                 Chest_Pain  Rest_blood_pressure\n",
       " Min.   :29.00   Female: 96   Typical_Angina  :143   Min.   : 94.0      \n",
       " 1st Qu.:47.50   Male  :207   Atypical_Angina : 50   1st Qu.:120.0      \n",
       " Median :55.00                Non-Anginal_Pain: 87   Median :130.0      \n",
       " Mean   :54.37                Asymptomatic    : 23   Mean   :131.6      \n",
       " 3rd Qu.:61.00                                       3rd Qu.:140.0      \n",
       " Max.   :77.00                                       Max.   :200.0      \n",
       "      chol       Fast_blood_sugar Resting_result Max_heart_rate \n",
       " Min.   :126.0   0:258            0:147          Min.   : 71.0  \n",
       " 1st Qu.:211.0   1: 45            1:152          1st Qu.:133.5  \n",
       " Median :240.0                    2:  4          Median :153.0  \n",
       " Mean   :246.3                                   Mean   :149.6  \n",
       " 3rd Qu.:274.5                                   3rd Qu.:166.0  \n",
       " Max.   :564.0                                   Max.   :202.0  \n",
       " Exercise_induce_Agina    oldpeak     Slope   Number_.of_vessel\n",
       " 0:204                 Min.   :0.00   0: 21   0:175            \n",
       " 1: 99                 1st Qu.:0.00   1:140   1: 65            \n",
       "                       Median :0.80   2:142   2: 38            \n",
       "                       Mean   :1.04           3: 20            \n",
       "                       3rd Qu.:1.60           4:  5            \n",
       "                       Max.   :6.20                            \n",
       "             thall_Rate         output   \n",
       " normal           : 19   No_Disease:138  \n",
       " fixed_defect     :167   Disease   :165  \n",
       " reversible_defect:117                   \n",
       "                                         \n",
       "                                         \n",
       "                                         "
      ]
     },
     "metadata": {},
     "output_type": "display_data"
    }
   ],
   "source": [
    "head(heart)\n",
    "summary(heart)"
   ]
  },
  {
   "cell_type": "code",
   "execution_count": 10,
   "metadata": {
    "scrolled": false
   },
   "outputs": [
    {
     "data": {
      "image/png": "[encoded data removed]",
      "text/plain": [
       "plot without title"
      ]
     },
     "metadata": {},
     "output_type": "display_data"
    }
   ],
   "source": [
    "fig(10, 6)\n",
    "f1 <- heart %>%\n",
    "    group_by(output, Rest_blood_pressure, chol) %>%\n",
    "    ggplot(aes(Rest_blood_pressure, chol, color = output)) + \n",
    "        geom_point() +  \n",
    "        theme_minimal() +\n",
    "        theme(legend.position = \"none\") +\n",
    "        labs(title = \"\")\n",
    "\n",
    "f2 <- heart %>%\n",
    "    group_by(output, thall_Rate, oldpeak) %>%\n",
    "    ggplot(aes(thall_Rate, oldpeak, color = output)) + \n",
    "        geom_point() +  \n",
    "        theme_minimal() +\n",
    "        theme(legend.position = \"none\") +\n",
    "        labs(title = \"\")\n",
    "\n",
    "f3 <- heart %>%\n",
    "    group_by(output, thall_Rate, chol) %>%\n",
    "    ggplot(aes(thall_Rate, chol, color = output)) + \n",
    "        geom_point() +  \n",
    "        theme_minimal() +\n",
    "        theme(legend.position = \"none\") +\n",
    "        labs(title = \"\")\n",
    "\n",
    "f4 <- heart %>%\n",
    "    group_by(output, Rest_blood_pressure, oldpeak) %>%\n",
    "    ggplot(aes(Rest_blood_pressure, oldpeak, color = output)) + \n",
    "        geom_point() +  \n",
    "        theme_minimal() +\n",
    "        theme(legend.position = \"none\") +\n",
    "        labs(title = \"\", caption = \"Fig.4\")\n",
    "\n",
    "grid.arrange(f1, f2, f3, f4, ncol = 2)"
   ]
  },
  {
   "cell_type": "code",
   "execution_count": 11,
   "metadata": {},
   "outputs": [
    {
     "data": {
      "text/plain": [
       "            sex\n",
       "output       Female Male\n",
       "  No_Disease     24  114\n",
       "  Disease        72   93"
      ]
     },
     "metadata": {},
     "output_type": "display_data"
    }
   ],
   "source": [
    "xtabs(~ output + sex, data=heart)"
   ]
  },
  {
   "cell_type": "code",
   "execution_count": 12,
   "metadata": {},
   "outputs": [
    {
     "data": {
      "text/plain": [
       "            sex\n",
       "output       Female Male\n",
       "  No_Disease     24  114\n",
       "  Disease        72   93"
      ]
     },
     "metadata": {},
     "output_type": "display_data"
    },
    {
     "data": {
      "text/plain": [
       "            Chest_Pain\n",
       "output       Typical_Angina Atypical_Angina Non-Anginal_Pain Asymptomatic\n",
       "  No_Disease            104               9               18            7\n",
       "  Disease                39              41               69           16"
      ]
     },
     "metadata": {},
     "output_type": "display_data"
    },
    {
     "data": {
      "text/plain": [
       "            Fast_blood_sugar\n",
       "output         0   1\n",
       "  No_Disease 116  22\n",
       "  Disease    142  23"
      ]
     },
     "metadata": {},
     "output_type": "display_data"
    },
    {
     "data": {
      "text/plain": [
       "            Resting_result\n",
       "output        0  1  2\n",
       "  No_Disease 79 56  3\n",
       "  Disease    68 96  1"
      ]
     },
     "metadata": {},
     "output_type": "display_data"
    },
    {
     "data": {
      "text/plain": [
       "            Exercise_induce_Agina\n",
       "output         0   1\n",
       "  No_Disease  62  76\n",
       "  Disease    142  23"
      ]
     },
     "metadata": {},
     "output_type": "display_data"
    },
    {
     "data": {
      "text/plain": [
       "            Slope\n",
       "output         0   1   2\n",
       "  No_Disease  12  91  35\n",
       "  Disease      9  49 107"
      ]
     },
     "metadata": {},
     "output_type": "display_data"
    },
    {
     "data": {
      "text/plain": [
       "            Number_.of_vessel\n",
       "output         0   1   2   3   4\n",
       "  No_Disease  45  44  31  17   1\n",
       "  Disease    130  21   7   3   4"
      ]
     },
     "metadata": {},
     "output_type": "display_data"
    },
    {
     "data": {
      "text/plain": [
       "            thall_Rate\n",
       "output       normal fixed_defect reversible_defect\n",
       "  No_Disease     13           36                89\n",
       "  Disease         6          131                28"
      ]
     },
     "metadata": {},
     "output_type": "display_data"
    }
   ],
   "source": [
    "#####################################\n",
    "xtabs(~ output + sex, data=heart)\n",
    "xtabs(~ output + Chest_Pain, data=heart)\n",
    "xtabs(~ output + Fast_blood_sugar, data=heart)\n",
    "xtabs(~ output + Resting_result, data=heart)\n",
    "xtabs(~ output + Exercise_induce_Agina, data=heart)\n",
    "xtabs(~ output + Slope, data=heart)\n",
    "xtabs(~ output + Number_.of_vessel, data=heart)\n",
    "xtabs(~ output + thall_Rate, data=heart)"
   ]
  },
  {
   "cell_type": "markdown",
   "metadata": {},
   "source": [
    "### Data Model\n",
    "### Decision Tree"
   ]
  },
  {
   "cell_type": "code",
   "execution_count": 13,
   "metadata": {
    "scrolled": true
   },
   "outputs": [
    {
     "name": "stdout",
     "output_type": "stream",
     "text": [
      "n= 214 \n",
      "\n",
      "node), split, n, loss, yval, (yprob)\n",
      "      * denotes terminal node\n",
      "\n",
      " 1) root 214 96 Disease (0.44859813 0.55140187)  \n",
      "   2) thall_Rate=normal,reversible_defect 92 22 No_Disease (0.76086957 0.23913043)  \n",
      "     4) oldpeak>=0.7 63  6 No_Disease (0.90476190 0.09523810) *\n",
      "     5) oldpeak< 0.7 29 13 Disease (0.44827586 0.55172414)  \n",
      "      10) chol>=230 17  6 No_Disease (0.64705882 0.35294118) *\n",
      "      11) chol< 230 12  2 Disease (0.16666667 0.83333333) *\n",
      "   3) thall_Rate=fixed_defect 122 26 Disease (0.21311475 0.78688525)  \n",
      "     6) Number_.of_vessel=1,2,3 38 18 Disease (0.47368421 0.52631579)  \n",
      "      12) Chest_Pain=Typical_Angina 14  1 No_Disease (0.92857143 0.07142857) *\n",
      "      13) Chest_Pain=Atypical_Angina,Non-Anginal_Pain,Asymptomatic 24  5 Disease (0.20833333 0.79166667) *\n",
      "     7) Number_.of_vessel=0,4 84  8 Disease (0.09523810 0.90476190) *\n"
     ]
    }
   ],
   "source": [
    "set.seed(300)\n",
    "\n",
    "# runif function returns a uniform distribution which can be further conditionally split into 75-25 ratio\n",
    "heart[, 'train'] <- ifelse(runif(nrow(heart)) < 0.75, 1, 0)\n",
    "\n",
    "trainSet <- heart[heart$train == 1,]\n",
    "testSet <- heart[heart$train == 0, ]\n",
    "\n",
    "trainColNum <- grep('train', names(trainSet))\n",
    "\n",
    "trainSet <- trainSet[, -trainColNum]\n",
    "testSet <- testSet[, -trainColNum]\n",
    "\n",
    "# CART Modeling via rpart\n",
    "treeFit <- rpart(output~.,data=trainSet,method = 'class')\n",
    "print(treeFit)\n"
   ]
  },
  {
   "cell_type": "code",
   "execution_count": 14,
   "metadata": {},
   "outputs": [
    {
     "data": {
      "image/png": "[encoded data removed]",
      "text/plain": [
       "Plot with title \"\""
      ]
     },
     "metadata": {},
     "output_type": "display_data"
    }
   ],
   "source": [
    "rattle::fancyRpartPlot(treeFit, type = 1, sub = \"\")"
   ]
  },
  {
   "cell_type": "code",
   "execution_count": 15,
   "metadata": {},
   "outputs": [
    {
     "data": {
      "text/plain": [
       "Confusion Matrix and Statistics\n",
       "\n",
       "            Reference\n",
       "Prediction   No_Disease Disease\n",
       "  No_Disease         33      10\n",
       "  Disease             9      37\n",
       "                                          \n",
       "               Accuracy : 0.7865          \n",
       "                 95% CI : (0.6869, 0.8663)\n",
       "    No Information Rate : 0.5281          \n",
       "    P-Value [Acc > NIR] : 3.952e-07       \n",
       "                                          \n",
       "                  Kappa : 0.5722          \n",
       "                                          \n",
       " Mcnemar's Test P-Value : 1               \n",
       "                                          \n",
       "            Sensitivity : 0.7857          \n",
       "            Specificity : 0.7872          \n",
       "         Pos Pred Value : 0.7674          \n",
       "         Neg Pred Value : 0.8043          \n",
       "             Prevalence : 0.4719          \n",
       "         Detection Rate : 0.3708          \n",
       "   Detection Prevalence : 0.4831          \n",
       "      Balanced Accuracy : 0.7865          \n",
       "                                          \n",
       "       'Positive' Class : No_Disease      \n",
       "                                          "
      ]
     },
     "metadata": {},
     "output_type": "display_data"
    }
   ],
   "source": [
    "# run predicion on test dataset\n",
    "Prediction1 <- predict(treeFit,newdata=testSet,type = 'class')\n",
    "\n",
    "\n",
    "## Print the confusion matrix to check the accuracy\n",
    "confusionMatrix(Prediction1,testSet$output)"
   ]
  },
  {
   "cell_type": "markdown",
   "metadata": {},
   "source": [
    "### RANDOM FOREST"
   ]
  },
  {
   "cell_type": "code",
   "execution_count": 16,
   "metadata": {},
   "outputs": [
    {
     "data": {
      "text/html": [
       "<table>\n",
       "<thead><tr><th></th><th scope=col>age</th><th scope=col>sex</th><th scope=col>Chest_Pain</th><th scope=col>Rest_blood_pressure</th><th scope=col>chol</th><th scope=col>Fast_blood_sugar</th><th scope=col>Resting_result</th><th scope=col>Max_heart_rate</th><th scope=col>Exercise_induce_Agina</th><th scope=col>oldpeak</th><th scope=col>Slope</th><th scope=col>Number_.of_vessel</th><th scope=col>thall_Rate</th><th scope=col>train</th></tr></thead>\n",
       "<tbody>\n",
       "\t<tr><th scope=row>1</th><td>53              </td><td>Female          </td><td>Non-Anginal_Pain</td><td>128             </td><td>216             </td><td>0               </td><td>0               </td><td>115             </td><td>0               </td><td>0.0             </td><td>2               </td><td>0               </td><td>fixed_defect    </td><td>0               </td></tr>\n",
       "\t<tr><th scope=row>2</th><td>52              </td><td>Male            </td><td>Typical_Angina  </td><td>128             </td><td>204             </td><td>1               </td><td>1               </td><td>156             </td><td>1               </td><td>1.0             </td><td>1               </td><td>0               </td><td>normal          </td><td>0               </td></tr>\n",
       "\t<tr><th scope=row>6</th><td>41              </td><td>Male            </td><td>Atypical_Angina </td><td>135             </td><td>203             </td><td>0               </td><td>1               </td><td>132             </td><td>0               </td><td>0.0             </td><td>1               </td><td>0               </td><td>normal          </td><td>1               </td></tr>\n",
       "\t<tr><th scope=row>13</th><td>56              </td><td>Male            </td><td>Typical_Angina  </td><td>132             </td><td>184             </td><td>0               </td><td>0               </td><td>105             </td><td>1               </td><td>2.1             </td><td>1               </td><td>1               </td><td>normal          </td><td>0               </td></tr>\n",
       "\t<tr><th scope=row>18</th><td>58              </td><td>Female          </td><td>Typical_Angina  </td><td>170             </td><td>225             </td><td>1               </td><td>0               </td><td>146             </td><td>1               </td><td>2.8             </td><td>1               </td><td>2               </td><td>normal          </td><td>1               </td></tr>\n",
       "\t<tr><th scope=row>20</th><td>59              </td><td>Male            </td><td>Typical_Angina  </td><td>164             </td><td>176             </td><td>1               </td><td>0               </td><td> 90             </td><td>0               </td><td>1.0             </td><td>1               </td><td>2               </td><td>normal          </td><td>1               </td></tr>\n",
       "\t<tr><th scope=row>24</th><td>57              </td><td>Female          </td><td>Typical_Angina  </td><td>120             </td><td>354             </td><td>0               </td><td>1               </td><td>163             </td><td>1               </td><td>0.6             </td><td>2               </td><td>0               </td><td>fixed_defect    </td><td>1               </td></tr>\n",
       "\t<tr><th scope=row>30</th><td>64              </td><td>Male            </td><td>Asymptomatic    </td><td>110             </td><td>211             </td><td>0               </td><td>0               </td><td>144             </td><td>1               </td><td>1.8             </td><td>1               </td><td>0               </td><td>fixed_defect    </td><td>1               </td></tr>\n",
       "\t<tr><th scope=row>31</th><td>58              </td><td>Female          </td><td>Asymptomatic    </td><td>150             </td><td>283             </td><td>1               </td><td>0               </td><td>162             </td><td>0               </td><td>1.0             </td><td>2               </td><td>0               </td><td>fixed_defect    </td><td>1               </td></tr>\n",
       "\t<tr><th scope=row>33</th><td>58              </td><td>Female          </td><td>Non-Anginal_Pain</td><td>120             </td><td>340             </td><td>0               </td><td>1               </td><td>172             </td><td>0               </td><td>0.0             </td><td>2               </td><td>0               </td><td>fixed_defect    </td><td>0               </td></tr>\n",
       "\t<tr><th scope=row>34</th><td>66              </td><td>Female          </td><td>Asymptomatic    </td><td>150             </td><td>226             </td><td>0               </td><td>1               </td><td>114             </td><td>0               </td><td>2.6             </td><td>0               </td><td>0               </td><td>fixed_defect    </td><td>1               </td></tr>\n",
       "\t<tr><th scope=row>35</th><td>43              </td><td>Male            </td><td>Typical_Angina  </td><td>150             </td><td>247             </td><td>0               </td><td>1               </td><td>171             </td><td>0               </td><td>1.5             </td><td>2               </td><td>0               </td><td>fixed_defect    </td><td>1               </td></tr>\n",
       "\t<tr><th scope=row>37</th><td>44              </td><td>Male            </td><td>Non-Anginal_Pain</td><td>130             </td><td>233             </td><td>0               </td><td>1               </td><td>179             </td><td>1               </td><td>0.4             </td><td>2               </td><td>0               </td><td>fixed_defect    </td><td>1               </td></tr>\n",
       "\t<tr><th scope=row>38</th><td>42              </td><td>Male            </td><td>Typical_Angina  </td><td>140             </td><td>226             </td><td>0               </td><td>1               </td><td>178             </td><td>0               </td><td>0.0             </td><td>2               </td><td>0               </td><td>fixed_defect    </td><td>0               </td></tr>\n",
       "\t<tr><th scope=row>39</th><td>61              </td><td>Male            </td><td>Non-Anginal_Pain</td><td>150             </td><td>243             </td><td>1               </td><td>1               </td><td>137             </td><td>1               </td><td>1.0             </td><td>1               </td><td>0               </td><td>fixed_defect    </td><td>1               </td></tr>\n",
       "\t<tr><th scope=row>40</th><td>71              </td><td>Female          </td><td>Atypical_Angina </td><td>160             </td><td>302             </td><td>0               </td><td>1               </td><td>162             </td><td>0               </td><td>0.4             </td><td>2               </td><td>2               </td><td>fixed_defect    </td><td>0               </td></tr>\n",
       "\t<tr><th scope=row>43</th><td>65              </td><td>Female          </td><td>Non-Anginal_Pain</td><td>140             </td><td>417             </td><td>1               </td><td>0               </td><td>157             </td><td>0               </td><td>0.8             </td><td>2               </td><td>1               </td><td>fixed_defect    </td><td>1               </td></tr>\n",
       "\t<tr><th scope=row>44</th><td>53              </td><td>Male            </td><td>Non-Anginal_Pain</td><td>130             </td><td>197             </td><td>1               </td><td>0               </td><td>152             </td><td>0               </td><td>1.2             </td><td>0               </td><td>0               </td><td>fixed_defect    </td><td>0               </td></tr>\n",
       "\t<tr><th scope=row>45</th><td>41              </td><td>Female          </td><td>Atypical_Angina </td><td>105             </td><td>198             </td><td>0               </td><td>1               </td><td>168             </td><td>0               </td><td>0.0             </td><td>2               </td><td>1               </td><td>fixed_defect    </td><td>1               </td></tr>\n",
       "\t<tr><th scope=row>47</th><td>54              </td><td>Male            </td><td>Non-Anginal_Pain</td><td>125             </td><td>273             </td><td>0               </td><td>0               </td><td>152             </td><td>0               </td><td>0.5             </td><td>0               </td><td>1               </td><td>fixed_defect    </td><td>1               </td></tr>\n",
       "\t<tr><th scope=row>50</th><td>54              </td><td>Female          </td><td>Non-Anginal_Pain</td><td>135             </td><td>304             </td><td>1               </td><td>1               </td><td>170             </td><td>0               </td><td>0.0             </td><td>2               </td><td>0               </td><td>fixed_defect    </td><td>1               </td></tr>\n",
       "\t<tr><th scope=row>52</th><td>65              </td><td>Female          </td><td>Non-Anginal_Pain</td><td>160             </td><td>360             </td><td>0               </td><td>0               </td><td>151             </td><td>0               </td><td>0.8             </td><td>2               </td><td>0               </td><td>fixed_defect    </td><td>0               </td></tr>\n",
       "\t<tr><th scope=row>54</th><td>48              </td><td>Male            </td><td>Atypical_Angina </td><td>130             </td><td>245             </td><td>0               </td><td>0               </td><td>180             </td><td>0               </td><td>0.2             </td><td>1               </td><td>0               </td><td>fixed_defect    </td><td>0               </td></tr>\n",
       "\t<tr><th scope=row>56</th><td>53              </td><td>Female          </td><td>Typical_Angina  </td><td>130             </td><td>264             </td><td>0               </td><td>0               </td><td>143             </td><td>0               </td><td>0.4             </td><td>1               </td><td>0               </td><td>fixed_defect    </td><td>1               </td></tr>\n",
       "\t<tr><th scope=row>59</th><td>44              </td><td>Male            </td><td>Non-Anginal_Pain</td><td>140             </td><td>235             </td><td>0               </td><td>0               </td><td>180             </td><td>0               </td><td>0.0             </td><td>2               </td><td>0               </td><td>fixed_defect    </td><td>0               </td></tr>\n",
       "\t<tr><th scope=row>65</th><td>63              </td><td>Female          </td><td>Non-Anginal_Pain</td><td>135             </td><td>252             </td><td>0               </td><td>0               </td><td>172             </td><td>0               </td><td>0.0             </td><td>2               </td><td>0               </td><td>fixed_defect    </td><td>1               </td></tr>\n",
       "\t<tr><th scope=row>67</th><td>48              </td><td>Male            </td><td>Typical_Angina  </td><td>122             </td><td>222             </td><td>0               </td><td>0               </td><td>186             </td><td>0               </td><td>0.0             </td><td>2               </td><td>0               </td><td>fixed_defect    </td><td>1               </td></tr>\n",
       "\t<tr><th scope=row>72</th><td>58              </td><td>Male            </td><td>Non-Anginal_Pain</td><td>140             </td><td>211             </td><td>1               </td><td>0               </td><td>165             </td><td>0               </td><td>0.0             </td><td>2               </td><td>0               </td><td>fixed_defect    </td><td>0               </td></tr>\n",
       "\t<tr><th scope=row>76</th><td>44              </td><td>Male            </td><td>Atypical_Angina </td><td>120             </td><td>220             </td><td>0               </td><td>1               </td><td>170             </td><td>0               </td><td>0.0             </td><td>2               </td><td>0               </td><td>fixed_defect    </td><td>1               </td></tr>\n",
       "\t<tr><th scope=row>80</th><td>43              </td><td>Female          </td><td>Non-Anginal_Pain</td><td>122             </td><td>213             </td><td>0               </td><td>1               </td><td>165             </td><td>0               </td><td>0.2             </td><td>1               </td><td>0               </td><td>fixed_defect    </td><td>1               </td></tr>\n",
       "\t<tr><th scope=row>...</th><td>...</td><td>...</td><td>...</td><td>...</td><td>...</td><td>...</td><td>...</td><td>...</td><td>...</td><td>...</td><td>...</td><td>...</td><td>...</td><td>...</td></tr>\n",
       "\t<tr><th scope=row>255</th><td>65               </td><td>Male             </td><td>Typical_Angina   </td><td>135              </td><td>254              </td><td>0                </td><td>0                </td><td>127              </td><td>0                </td><td>2.8              </td><td>1                </td><td>1                </td><td>reversible_defect</td><td>1                </td></tr>\n",
       "\t<tr><th scope=row>256</th><td>48               </td><td>Male             </td><td>Typical_Angina   </td><td>130              </td><td>256              </td><td>1                </td><td>0                </td><td>150              </td><td>1                </td><td>0.0              </td><td>2                </td><td>2                </td><td>reversible_defect</td><td>0                </td></tr>\n",
       "\t<tr><th scope=row>257</th><td>63               </td><td>Female           </td><td>Typical_Angina   </td><td>150              </td><td>407              </td><td>0                </td><td>0                </td><td>154              </td><td>0                </td><td>4.0              </td><td>1                </td><td>3                </td><td>reversible_defect</td><td>1                </td></tr>\n",
       "\t<tr><th scope=row>258</th><td>55               </td><td>Male             </td><td>Typical_Angina   </td><td>140              </td><td>217              </td><td>0                </td><td>1                </td><td>111              </td><td>1                </td><td>5.6              </td><td>0                </td><td>0                </td><td>reversible_defect</td><td>1                </td></tr>\n",
       "\t<tr><th scope=row>259</th><td>56               </td><td>Female           </td><td>Typical_Angina   </td><td>200              </td><td>288              </td><td>1                </td><td>0                </td><td>133              </td><td>1                </td><td>4.0              </td><td>0                </td><td>2                </td><td>reversible_defect</td><td>0                </td></tr>\n",
       "\t<tr><th scope=row>260</th><td>54               </td><td>Male             </td><td>Typical_Angina   </td><td>110              </td><td>239              </td><td>0                </td><td>1                </td><td>126              </td><td>1                </td><td>2.8              </td><td>1                </td><td>1                </td><td>reversible_defect</td><td>1                </td></tr>\n",
       "\t<tr><th scope=row>261</th><td>70               </td><td>Male             </td><td>Typical_Angina   </td><td>145              </td><td>174              </td><td>0                </td><td>1                </td><td>125              </td><td>1                </td><td>2.6              </td><td>0                </td><td>0                </td><td>reversible_defect</td><td>1                </td></tr>\n",
       "\t<tr><th scope=row>262</th><td>62               </td><td>Male             </td><td>Atypical_Angina  </td><td>120              </td><td>281              </td><td>0                </td><td>0                </td><td>103              </td><td>0                </td><td>1.4              </td><td>1                </td><td>1                </td><td>reversible_defect</td><td>1                </td></tr>\n",
       "\t<tr><th scope=row>264</th><td>59               </td><td>Male             </td><td>Asymptomatic     </td><td>170              </td><td>288              </td><td>0                </td><td>0                </td><td>159              </td><td>0                </td><td>0.2              </td><td>1                </td><td>0                </td><td>reversible_defect</td><td>1                </td></tr>\n",
       "\t<tr><th scope=row>265</th><td>64               </td><td>Male             </td><td>Non-Anginal_Pain </td><td>125              </td><td>309              </td><td>0                </td><td>1                </td><td>131              </td><td>1                </td><td>1.8              </td><td>1                </td><td>0                </td><td>reversible_defect</td><td>1                </td></tr>\n",
       "\t<tr><th scope=row>268</th><td>51               </td><td>Male             </td><td>Typical_Angina   </td><td>140              </td><td>299              </td><td>0                </td><td>1                </td><td>173              </td><td>1                </td><td>1.6              </td><td>2                </td><td>0                </td><td>reversible_defect</td><td>1                </td></tr>\n",
       "\t<tr><th scope=row>270</th><td>60               </td><td>Male             </td><td>Typical_Angina   </td><td>140              </td><td>293              </td><td>0                </td><td>0                </td><td>170              </td><td>0                </td><td>1.2              </td><td>1                </td><td>2                </td><td>reversible_defect</td><td>1                </td></tr>\n",
       "\t<tr><th scope=row>271</th><td>35               </td><td>Male             </td><td>Typical_Angina   </td><td>126              </td><td>282              </td><td>0                </td><td>0                </td><td>156              </td><td>1                </td><td>0.0              </td><td>2                </td><td>0                </td><td>reversible_defect</td><td>1                </td></tr>\n",
       "\t<tr><th scope=row>274</th><td>48               </td><td>Male             </td><td>Typical_Angina   </td><td>124              </td><td>274              </td><td>0                </td><td>0                </td><td>166              </td><td>0                </td><td>0.5              </td><td>1                </td><td>0                </td><td>reversible_defect</td><td>0                </td></tr>\n",
       "\t<tr><th scope=row>275</th><td>56               </td><td>Female           </td><td>Typical_Angina   </td><td>134              </td><td>409              </td><td>0                </td><td>0                </td><td>150              </td><td>1                </td><td>1.9              </td><td>1                </td><td>2                </td><td>reversible_defect</td><td>0                </td></tr>\n",
       "\t<tr><th scope=row>277</th><td>69               </td><td>Male             </td><td>Non-Anginal_Pain </td><td>140              </td><td>254              </td><td>0                </td><td>0                </td><td>146              </td><td>0                </td><td>2.0              </td><td>1                </td><td>3                </td><td>reversible_defect</td><td>1                </td></tr>\n",
       "\t<tr><th scope=row>278</th><td>51               </td><td>Male             </td><td>Typical_Angina   </td><td>140              </td><td>298              </td><td>0                </td><td>1                </td><td>122              </td><td>1                </td><td>4.2              </td><td>1                </td><td>3                </td><td>reversible_defect</td><td>1                </td></tr>\n",
       "\t<tr><th scope=row>280</th><td>45               </td><td>Male             </td><td>Typical_Angina   </td><td>142              </td><td>309              </td><td>0                </td><td>0                </td><td>147              </td><td>1                </td><td>0.0              </td><td>1                </td><td>3                </td><td>reversible_defect</td><td>0                </td></tr>\n",
       "\t<tr><th scope=row>281</th><td>58               </td><td>Male             </td><td>Typical_Angina   </td><td>128              </td><td>259              </td><td>0                </td><td>0                </td><td>130              </td><td>1                </td><td>3.0              </td><td>1                </td><td>2                </td><td>reversible_defect</td><td>0                </td></tr>\n",
       "\t<tr><th scope=row>282</th><td>50               </td><td>Male             </td><td>Typical_Angina   </td><td>144              </td><td>200              </td><td>0                </td><td>0                </td><td>126              </td><td>1                </td><td>0.9              </td><td>1                </td><td>0                </td><td>reversible_defect</td><td>1                </td></tr>\n",
       "\t<tr><th scope=row>284</th><td>66               </td><td>Female           </td><td>Typical_Angina   </td><td>178              </td><td>228              </td><td>1                </td><td>1                </td><td>165              </td><td>1                </td><td>1.0              </td><td>1                </td><td>2                </td><td>reversible_defect</td><td>0                </td></tr>\n",
       "\t<tr><th scope=row>286</th><td>56               </td><td>Male             </td><td>Typical_Angina   </td><td>130              </td><td>283              </td><td>1                </td><td>0                </td><td>103              </td><td>1                </td><td>1.6              </td><td>0                </td><td>0                </td><td>reversible_defect</td><td>1                </td></tr>\n",
       "\t<tr><th scope=row>287</th><td>46               </td><td>Male             </td><td>Typical_Angina   </td><td>120              </td><td>249              </td><td>0                </td><td>0                </td><td>144              </td><td>0                </td><td>0.8              </td><td>2                </td><td>0                </td><td>reversible_defect</td><td>1                </td></tr>\n",
       "\t<tr><th scope=row>289</th><td>52               </td><td>Male             </td><td>Typical_Angina   </td><td>125              </td><td>212              </td><td>0                </td><td>1                </td><td>168              </td><td>0                </td><td>1.0              </td><td>2                </td><td>2                </td><td>reversible_defect</td><td>1                </td></tr>\n",
       "\t<tr><th scope=row>292</th><td>40               </td><td>Male             </td><td>Typical_Angina   </td><td>152              </td><td>223              </td><td>0                </td><td>1                </td><td>181              </td><td>0                </td><td>0.0              </td><td>2                </td><td>0                </td><td>reversible_defect</td><td>0                </td></tr>\n",
       "\t<tr><th scope=row>293</th><td>61               </td><td>Male             </td><td>Typical_Angina   </td><td>140              </td><td>207              </td><td>0                </td><td>0                </td><td>138              </td><td>1                </td><td>1.9              </td><td>2                </td><td>1                </td><td>reversible_defect</td><td>1                </td></tr>\n",
       "\t<tr><th scope=row>294</th><td>46               </td><td>Male             </td><td>Typical_Angina   </td><td>140              </td><td>311              </td><td>0                </td><td>1                </td><td>120              </td><td>1                </td><td>1.8              </td><td>1                </td><td>2                </td><td>reversible_defect</td><td>1                </td></tr>\n",
       "\t<tr><th scope=row>295</th><td>57               </td><td>Male             </td><td>Typical_Angina   </td><td>110              </td><td>335              </td><td>0                </td><td>1                </td><td>143              </td><td>1                </td><td>3.0              </td><td>1                </td><td>1                </td><td>reversible_defect</td><td>1                </td></tr>\n",
       "\t<tr><th scope=row>300</th><td>57               </td><td>Female           </td><td>Typical_Angina   </td><td>140              </td><td>241              </td><td>0                </td><td>1                </td><td>123              </td><td>1                </td><td>0.2              </td><td>1                </td><td>0                </td><td>reversible_defect</td><td>1                </td></tr>\n",
       "\t<tr><th scope=row>301</th><td>45               </td><td>Male             </td><td>Asymptomatic     </td><td>110              </td><td>264              </td><td>0                </td><td>1                </td><td>132              </td><td>0                </td><td>1.2              </td><td>1                </td><td>0                </td><td>reversible_defect</td><td>0                </td></tr>\n",
       "</tbody>\n",
       "</table>\n"
      ],
      "text/latex": [
       "\\begin{tabular}{r|llllllllllllll}\n",
       "  & age & sex & Chest\\_Pain & Rest\\_blood\\_pressure & chol & Fast\\_blood\\_sugar & Resting\\_result & Max\\_heart\\_rate & Exercise\\_induce\\_Agina & oldpeak & Slope & Number\\_.of\\_vessel & thall\\_Rate & train\\\\\n",
       "\\hline\n",
       "\t1 & 53                 & Female             & Non-Anginal\\_Pain & 128                & 216                & 0                  & 0                  & 115                & 0                  & 0.0                & 2                  & 0                  & fixed\\_defect     & 0                 \\\\\n",
       "\t2 & 52                 & Male               & Typical\\_Angina   & 128                & 204                & 1                  & 1                  & 156                & 1                  & 1.0                & 1                  & 0                  & normal             & 0                 \\\\\n",
       "\t6 & 41                 & Male               & Atypical\\_Angina  & 135                & 203                & 0                  & 1                  & 132                & 0                  & 0.0                & 1                  & 0                  & normal             & 1                 \\\\\n",
       "\t13 & 56                 & Male               & Typical\\_Angina   & 132                & 184                & 0                  & 0                  & 105                & 1                  & 2.1                & 1                  & 1                  & normal             & 0                 \\\\\n",
       "\t18 & 58                 & Female             & Typical\\_Angina   & 170                & 225                & 1                  & 0                  & 146                & 1                  & 2.8                & 1                  & 2                  & normal             & 1                 \\\\\n",
       "\t20 & 59                 & Male               & Typical\\_Angina   & 164                & 176                & 1                  & 0                  &  90                & 0                  & 1.0                & 1                  & 2                  & normal             & 1                 \\\\\n",
       "\t24 & 57                 & Female             & Typical\\_Angina   & 120                & 354                & 0                  & 1                  & 163                & 1                  & 0.6                & 2                  & 0                  & fixed\\_defect     & 1                 \\\\\n",
       "\t30 & 64               & Male             & Asymptomatic     & 110              & 211              & 0                & 0                & 144              & 1                & 1.8              & 1                & 0                & fixed\\_defect   & 1               \\\\\n",
       "\t31 & 58               & Female           & Asymptomatic     & 150              & 283              & 1                & 0                & 162              & 0                & 1.0              & 2                & 0                & fixed\\_defect   & 1               \\\\\n",
       "\t33 & 58                 & Female             & Non-Anginal\\_Pain & 120                & 340                & 0                  & 1                  & 172                & 0                  & 0.0                & 2                  & 0                  & fixed\\_defect     & 0                 \\\\\n",
       "\t34 & 66               & Female           & Asymptomatic     & 150              & 226              & 0                & 1                & 114              & 0                & 2.6              & 0                & 0                & fixed\\_defect   & 1               \\\\\n",
       "\t35 & 43                 & Male               & Typical\\_Angina   & 150                & 247                & 0                  & 1                  & 171                & 0                  & 1.5                & 2                  & 0                  & fixed\\_defect     & 1                 \\\\\n",
       "\t37 & 44                 & Male               & Non-Anginal\\_Pain & 130                & 233                & 0                  & 1                  & 179                & 1                  & 0.4                & 2                  & 0                  & fixed\\_defect     & 1                 \\\\\n",
       "\t38 & 42                 & Male               & Typical\\_Angina   & 140                & 226                & 0                  & 1                  & 178                & 0                  & 0.0                & 2                  & 0                  & fixed\\_defect     & 0                 \\\\\n",
       "\t39 & 61                 & Male               & Non-Anginal\\_Pain & 150                & 243                & 1                  & 1                  & 137                & 1                  & 1.0                & 1                  & 0                  & fixed\\_defect     & 1                 \\\\\n",
       "\t40 & 71                 & Female             & Atypical\\_Angina  & 160                & 302                & 0                  & 1                  & 162                & 0                  & 0.4                & 2                  & 2                  & fixed\\_defect     & 0                 \\\\\n",
       "\t43 & 65                 & Female             & Non-Anginal\\_Pain & 140                & 417                & 1                  & 0                  & 157                & 0                  & 0.8                & 2                  & 1                  & fixed\\_defect     & 1                 \\\\\n",
       "\t44 & 53                 & Male               & Non-Anginal\\_Pain & 130                & 197                & 1                  & 0                  & 152                & 0                  & 1.2                & 0                  & 0                  & fixed\\_defect     & 0                 \\\\\n",
       "\t45 & 41                 & Female             & Atypical\\_Angina  & 105                & 198                & 0                  & 1                  & 168                & 0                  & 0.0                & 2                  & 1                  & fixed\\_defect     & 1                 \\\\\n",
       "\t47 & 54                 & Male               & Non-Anginal\\_Pain & 125                & 273                & 0                  & 0                  & 152                & 0                  & 0.5                & 0                  & 1                  & fixed\\_defect     & 1                 \\\\\n",
       "\t50 & 54                 & Female             & Non-Anginal\\_Pain & 135                & 304                & 1                  & 1                  & 170                & 0                  & 0.0                & 2                  & 0                  & fixed\\_defect     & 1                 \\\\\n",
       "\t52 & 65                 & Female             & Non-Anginal\\_Pain & 160                & 360                & 0                  & 0                  & 151                & 0                  & 0.8                & 2                  & 0                  & fixed\\_defect     & 0                 \\\\\n",
       "\t54 & 48                 & Male               & Atypical\\_Angina  & 130                & 245                & 0                  & 0                  & 180                & 0                  & 0.2                & 1                  & 0                  & fixed\\_defect     & 0                 \\\\\n",
       "\t56 & 53                 & Female             & Typical\\_Angina   & 130                & 264                & 0                  & 0                  & 143                & 0                  & 0.4                & 1                  & 0                  & fixed\\_defect     & 1                 \\\\\n",
       "\t59 & 44                 & Male               & Non-Anginal\\_Pain & 140                & 235                & 0                  & 0                  & 180                & 0                  & 0.0                & 2                  & 0                  & fixed\\_defect     & 0                 \\\\\n",
       "\t65 & 63                 & Female             & Non-Anginal\\_Pain & 135                & 252                & 0                  & 0                  & 172                & 0                  & 0.0                & 2                  & 0                  & fixed\\_defect     & 1                 \\\\\n",
       "\t67 & 48                 & Male               & Typical\\_Angina   & 122                & 222                & 0                  & 0                  & 186                & 0                  & 0.0                & 2                  & 0                  & fixed\\_defect     & 1                 \\\\\n",
       "\t72 & 58                 & Male               & Non-Anginal\\_Pain & 140                & 211                & 1                  & 0                  & 165                & 0                  & 0.0                & 2                  & 0                  & fixed\\_defect     & 0                 \\\\\n",
       "\t76 & 44                 & Male               & Atypical\\_Angina  & 120                & 220                & 0                  & 1                  & 170                & 0                  & 0.0                & 2                  & 0                  & fixed\\_defect     & 1                 \\\\\n",
       "\t80 & 43                 & Female             & Non-Anginal\\_Pain & 122                & 213                & 0                  & 1                  & 165                & 0                  & 0.2                & 1                  & 0                  & fixed\\_defect     & 1                 \\\\\n",
       "\t... & ... & ... & ... & ... & ... & ... & ... & ... & ... & ... & ... & ... & ... & ...\\\\\n",
       "\t255 & 65                  & Male                & Typical\\_Angina    & 135                 & 254                 & 0                   & 0                   & 127                 & 0                   & 2.8                 & 1                   & 1                   & reversible\\_defect & 1                  \\\\\n",
       "\t256 & 48                  & Male                & Typical\\_Angina    & 130                 & 256                 & 1                   & 0                   & 150                 & 1                   & 0.0                 & 2                   & 2                   & reversible\\_defect & 0                  \\\\\n",
       "\t257 & 63                  & Female              & Typical\\_Angina    & 150                 & 407                 & 0                   & 0                   & 154                 & 0                   & 4.0                 & 1                   & 3                   & reversible\\_defect & 1                  \\\\\n",
       "\t258 & 55                  & Male                & Typical\\_Angina    & 140                 & 217                 & 0                   & 1                   & 111                 & 1                   & 5.6                 & 0                   & 0                   & reversible\\_defect & 1                  \\\\\n",
       "\t259 & 56                  & Female              & Typical\\_Angina    & 200                 & 288                 & 1                   & 0                   & 133                 & 1                   & 4.0                 & 0                   & 2                   & reversible\\_defect & 0                  \\\\\n",
       "\t260 & 54                  & Male                & Typical\\_Angina    & 110                 & 239                 & 0                   & 1                   & 126                 & 1                   & 2.8                 & 1                   & 1                   & reversible\\_defect & 1                  \\\\\n",
       "\t261 & 70                  & Male                & Typical\\_Angina    & 145                 & 174                 & 0                   & 1                   & 125                 & 1                   & 2.6                 & 0                   & 0                   & reversible\\_defect & 1                  \\\\\n",
       "\t262 & 62                  & Male                & Atypical\\_Angina   & 120                 & 281                 & 0                   & 0                   & 103                 & 0                   & 1.4                 & 1                   & 1                   & reversible\\_defect & 1                  \\\\\n",
       "\t264 & 59                  & Male                & Asymptomatic        & 170                 & 288                 & 0                   & 0                   & 159                 & 0                   & 0.2                 & 1                   & 0                   & reversible\\_defect & 1                  \\\\\n",
       "\t265 & 64                  & Male                & Non-Anginal\\_Pain  & 125                 & 309                 & 0                   & 1                   & 131                 & 1                   & 1.8                 & 1                   & 0                   & reversible\\_defect & 1                  \\\\\n",
       "\t268 & 51                  & Male                & Typical\\_Angina    & 140                 & 299                 & 0                   & 1                   & 173                 & 1                   & 1.6                 & 2                   & 0                   & reversible\\_defect & 1                  \\\\\n",
       "\t270 & 60                  & Male                & Typical\\_Angina    & 140                 & 293                 & 0                   & 0                   & 170                 & 0                   & 1.2                 & 1                   & 2                   & reversible\\_defect & 1                  \\\\\n",
       "\t271 & 35                  & Male                & Typical\\_Angina    & 126                 & 282                 & 0                   & 0                   & 156                 & 1                   & 0.0                 & 2                   & 0                   & reversible\\_defect & 1                  \\\\\n",
       "\t274 & 48                  & Male                & Typical\\_Angina    & 124                 & 274                 & 0                   & 0                   & 166                 & 0                   & 0.5                 & 1                   & 0                   & reversible\\_defect & 0                  \\\\\n",
       "\t275 & 56                  & Female              & Typical\\_Angina    & 134                 & 409                 & 0                   & 0                   & 150                 & 1                   & 1.9                 & 1                   & 2                   & reversible\\_defect & 0                  \\\\\n",
       "\t277 & 69                  & Male                & Non-Anginal\\_Pain  & 140                 & 254                 & 0                   & 0                   & 146                 & 0                   & 2.0                 & 1                   & 3                   & reversible\\_defect & 1                  \\\\\n",
       "\t278 & 51                  & Male                & Typical\\_Angina    & 140                 & 298                 & 0                   & 1                   & 122                 & 1                   & 4.2                 & 1                   & 3                   & reversible\\_defect & 1                  \\\\\n",
       "\t280 & 45                  & Male                & Typical\\_Angina    & 142                 & 309                 & 0                   & 0                   & 147                 & 1                   & 0.0                 & 1                   & 3                   & reversible\\_defect & 0                  \\\\\n",
       "\t281 & 58                  & Male                & Typical\\_Angina    & 128                 & 259                 & 0                   & 0                   & 130                 & 1                   & 3.0                 & 1                   & 2                   & reversible\\_defect & 0                  \\\\\n",
       "\t282 & 50                  & Male                & Typical\\_Angina    & 144                 & 200                 & 0                   & 0                   & 126                 & 1                   & 0.9                 & 1                   & 0                   & reversible\\_defect & 1                  \\\\\n",
       "\t284 & 66                  & Female              & Typical\\_Angina    & 178                 & 228                 & 1                   & 1                   & 165                 & 1                   & 1.0                 & 1                   & 2                   & reversible\\_defect & 0                  \\\\\n",
       "\t286 & 56                  & Male                & Typical\\_Angina    & 130                 & 283                 & 1                   & 0                   & 103                 & 1                   & 1.6                 & 0                   & 0                   & reversible\\_defect & 1                  \\\\\n",
       "\t287 & 46                  & Male                & Typical\\_Angina    & 120                 & 249                 & 0                   & 0                   & 144                 & 0                   & 0.8                 & 2                   & 0                   & reversible\\_defect & 1                  \\\\\n",
       "\t289 & 52                  & Male                & Typical\\_Angina    & 125                 & 212                 & 0                   & 1                   & 168                 & 0                   & 1.0                 & 2                   & 2                   & reversible\\_defect & 1                  \\\\\n",
       "\t292 & 40                  & Male                & Typical\\_Angina    & 152                 & 223                 & 0                   & 1                   & 181                 & 0                   & 0.0                 & 2                   & 0                   & reversible\\_defect & 0                  \\\\\n",
       "\t293 & 61                  & Male                & Typical\\_Angina    & 140                 & 207                 & 0                   & 0                   & 138                 & 1                   & 1.9                 & 2                   & 1                   & reversible\\_defect & 1                  \\\\\n",
       "\t294 & 46                  & Male                & Typical\\_Angina    & 140                 & 311                 & 0                   & 1                   & 120                 & 1                   & 1.8                 & 1                   & 2                   & reversible\\_defect & 1                  \\\\\n",
       "\t295 & 57                  & Male                & Typical\\_Angina    & 110                 & 335                 & 0                   & 1                   & 143                 & 1                   & 3.0                 & 1                   & 1                   & reversible\\_defect & 1                  \\\\\n",
       "\t300 & 57                  & Female              & Typical\\_Angina    & 140                 & 241                 & 0                   & 1                   & 123                 & 1                   & 0.2                 & 1                   & 0                   & reversible\\_defect & 1                  \\\\\n",
       "\t301 & 45                  & Male                & Asymptomatic        & 110                 & 264                 & 0                   & 1                   & 132                 & 0                   & 1.2                 & 1                   & 0                   & reversible\\_defect & 0                  \\\\\n",
       "\\end{tabular}\n"
      ],
      "text/markdown": [
       "\n",
       "| <!--/--> | age | sex | Chest_Pain | Rest_blood_pressure | chol | Fast_blood_sugar | Resting_result | Max_heart_rate | Exercise_induce_Agina | oldpeak | Slope | Number_.of_vessel | thall_Rate | train |\n",
       "|---|---|---|---|---|---|---|---|---|---|---|---|---|---|---|\n",
       "| 1 | 53               | Female           | Non-Anginal_Pain | 128              | 216              | 0                | 0                | 115              | 0                | 0.0              | 2                | 0                | fixed_defect     | 0                |\n",
       "| 2 | 52               | Male             | Typical_Angina   | 128              | 204              | 1                | 1                | 156              | 1                | 1.0              | 1                | 0                | normal           | 0                |\n",
       "| 6 | 41               | Male             | Atypical_Angina  | 135              | 203              | 0                | 1                | 132              | 0                | 0.0              | 1                | 0                | normal           | 1                |\n",
       "| 13 | 56               | Male             | Typical_Angina   | 132              | 184              | 0                | 0                | 105              | 1                | 2.1              | 1                | 1                | normal           | 0                |\n",
       "| 18 | 58               | Female           | Typical_Angina   | 170              | 225              | 1                | 0                | 146              | 1                | 2.8              | 1                | 2                | normal           | 1                |\n",
       "| 20 | 59               | Male             | Typical_Angina   | 164              | 176              | 1                | 0                |  90              | 0                | 1.0              | 1                | 2                | normal           | 1                |\n",
       "| 24 | 57               | Female           | Typical_Angina   | 120              | 354              | 0                | 1                | 163              | 1                | 0.6              | 2                | 0                | fixed_defect     | 1                |\n",
       "| 30 | 64               | Male             | Asymptomatic     | 110              | 211              | 0                | 0                | 144              | 1                | 1.8              | 1                | 0                | fixed_defect     | 1                |\n",
       "| 31 | 58               | Female           | Asymptomatic     | 150              | 283              | 1                | 0                | 162              | 0                | 1.0              | 2                | 0                | fixed_defect     | 1                |\n",
       "| 33 | 58               | Female           | Non-Anginal_Pain | 120              | 340              | 0                | 1                | 172              | 0                | 0.0              | 2                | 0                | fixed_defect     | 0                |\n",
       "| 34 | 66               | Female           | Asymptomatic     | 150              | 226              | 0                | 1                | 114              | 0                | 2.6              | 0                | 0                | fixed_defect     | 1                |\n",
       "| 35 | 43               | Male             | Typical_Angina   | 150              | 247              | 0                | 1                | 171              | 0                | 1.5              | 2                | 0                | fixed_defect     | 1                |\n",
       "| 37 | 44               | Male             | Non-Anginal_Pain | 130              | 233              | 0                | 1                | 179              | 1                | 0.4              | 2                | 0                | fixed_defect     | 1                |\n",
       "| 38 | 42               | Male             | Typical_Angina   | 140              | 226              | 0                | 1                | 178              | 0                | 0.0              | 2                | 0                | fixed_defect     | 0                |\n",
       "| 39 | 61               | Male             | Non-Anginal_Pain | 150              | 243              | 1                | 1                | 137              | 1                | 1.0              | 1                | 0                | fixed_defect     | 1                |\n",
       "| 40 | 71               | Female           | Atypical_Angina  | 160              | 302              | 0                | 1                | 162              | 0                | 0.4              | 2                | 2                | fixed_defect     | 0                |\n",
       "| 43 | 65               | Female           | Non-Anginal_Pain | 140              | 417              | 1                | 0                | 157              | 0                | 0.8              | 2                | 1                | fixed_defect     | 1                |\n",
       "| 44 | 53               | Male             | Non-Anginal_Pain | 130              | 197              | 1                | 0                | 152              | 0                | 1.2              | 0                | 0                | fixed_defect     | 0                |\n",
       "| 45 | 41               | Female           | Atypical_Angina  | 105              | 198              | 0                | 1                | 168              | 0                | 0.0              | 2                | 1                | fixed_defect     | 1                |\n",
       "| 47 | 54               | Male             | Non-Anginal_Pain | 125              | 273              | 0                | 0                | 152              | 0                | 0.5              | 0                | 1                | fixed_defect     | 1                |\n",
       "| 50 | 54               | Female           | Non-Anginal_Pain | 135              | 304              | 1                | 1                | 170              | 0                | 0.0              | 2                | 0                | fixed_defect     | 1                |\n",
       "| 52 | 65               | Female           | Non-Anginal_Pain | 160              | 360              | 0                | 0                | 151              | 0                | 0.8              | 2                | 0                | fixed_defect     | 0                |\n",
       "| 54 | 48               | Male             | Atypical_Angina  | 130              | 245              | 0                | 0                | 180              | 0                | 0.2              | 1                | 0                | fixed_defect     | 0                |\n",
       "| 56 | 53               | Female           | Typical_Angina   | 130              | 264              | 0                | 0                | 143              | 0                | 0.4              | 1                | 0                | fixed_defect     | 1                |\n",
       "| 59 | 44               | Male             | Non-Anginal_Pain | 140              | 235              | 0                | 0                | 180              | 0                | 0.0              | 2                | 0                | fixed_defect     | 0                |\n",
       "| 65 | 63               | Female           | Non-Anginal_Pain | 135              | 252              | 0                | 0                | 172              | 0                | 0.0              | 2                | 0                | fixed_defect     | 1                |\n",
       "| 67 | 48               | Male             | Typical_Angina   | 122              | 222              | 0                | 0                | 186              | 0                | 0.0              | 2                | 0                | fixed_defect     | 1                |\n",
       "| 72 | 58               | Male             | Non-Anginal_Pain | 140              | 211              | 1                | 0                | 165              | 0                | 0.0              | 2                | 0                | fixed_defect     | 0                |\n",
       "| 76 | 44               | Male             | Atypical_Angina  | 120              | 220              | 0                | 1                | 170              | 0                | 0.0              | 2                | 0                | fixed_defect     | 1                |\n",
       "| 80 | 43               | Female           | Non-Anginal_Pain | 122              | 213              | 0                | 1                | 165              | 0                | 0.2              | 1                | 0                | fixed_defect     | 1                |\n",
       "| ... | ... | ... | ... | ... | ... | ... | ... | ... | ... | ... | ... | ... | ... | ... |\n",
       "| 255 | 65                | Male              | Typical_Angina    | 135               | 254               | 0                 | 0                 | 127               | 0                 | 2.8               | 1                 | 1                 | reversible_defect | 1                 |\n",
       "| 256 | 48                | Male              | Typical_Angina    | 130               | 256               | 1                 | 0                 | 150               | 1                 | 0.0               | 2                 | 2                 | reversible_defect | 0                 |\n",
       "| 257 | 63                | Female            | Typical_Angina    | 150               | 407               | 0                 | 0                 | 154               | 0                 | 4.0               | 1                 | 3                 | reversible_defect | 1                 |\n",
       "| 258 | 55                | Male              | Typical_Angina    | 140               | 217               | 0                 | 1                 | 111               | 1                 | 5.6               | 0                 | 0                 | reversible_defect | 1                 |\n",
       "| 259 | 56                | Female            | Typical_Angina    | 200               | 288               | 1                 | 0                 | 133               | 1                 | 4.0               | 0                 | 2                 | reversible_defect | 0                 |\n",
       "| 260 | 54                | Male              | Typical_Angina    | 110               | 239               | 0                 | 1                 | 126               | 1                 | 2.8               | 1                 | 1                 | reversible_defect | 1                 |\n",
       "| 261 | 70                | Male              | Typical_Angina    | 145               | 174               | 0                 | 1                 | 125               | 1                 | 2.6               | 0                 | 0                 | reversible_defect | 1                 |\n",
       "| 262 | 62                | Male              | Atypical_Angina   | 120               | 281               | 0                 | 0                 | 103               | 0                 | 1.4               | 1                 | 1                 | reversible_defect | 1                 |\n",
       "| 264 | 59                | Male              | Asymptomatic      | 170               | 288               | 0                 | 0                 | 159               | 0                 | 0.2               | 1                 | 0                 | reversible_defect | 1                 |\n",
       "| 265 | 64                | Male              | Non-Anginal_Pain  | 125               | 309               | 0                 | 1                 | 131               | 1                 | 1.8               | 1                 | 0                 | reversible_defect | 1                 |\n",
       "| 268 | 51                | Male              | Typical_Angina    | 140               | 299               | 0                 | 1                 | 173               | 1                 | 1.6               | 2                 | 0                 | reversible_defect | 1                 |\n",
       "| 270 | 60                | Male              | Typical_Angina    | 140               | 293               | 0                 | 0                 | 170               | 0                 | 1.2               | 1                 | 2                 | reversible_defect | 1                 |\n",
       "| 271 | 35                | Male              | Typical_Angina    | 126               | 282               | 0                 | 0                 | 156               | 1                 | 0.0               | 2                 | 0                 | reversible_defect | 1                 |\n",
       "| 274 | 48                | Male              | Typical_Angina    | 124               | 274               | 0                 | 0                 | 166               | 0                 | 0.5               | 1                 | 0                 | reversible_defect | 0                 |\n",
       "| 275 | 56                | Female            | Typical_Angina    | 134               | 409               | 0                 | 0                 | 150               | 1                 | 1.9               | 1                 | 2                 | reversible_defect | 0                 |\n",
       "| 277 | 69                | Male              | Non-Anginal_Pain  | 140               | 254               | 0                 | 0                 | 146               | 0                 | 2.0               | 1                 | 3                 | reversible_defect | 1                 |\n",
       "| 278 | 51                | Male              | Typical_Angina    | 140               | 298               | 0                 | 1                 | 122               | 1                 | 4.2               | 1                 | 3                 | reversible_defect | 1                 |\n",
       "| 280 | 45                | Male              | Typical_Angina    | 142               | 309               | 0                 | 0                 | 147               | 1                 | 0.0               | 1                 | 3                 | reversible_defect | 0                 |\n",
       "| 281 | 58                | Male              | Typical_Angina    | 128               | 259               | 0                 | 0                 | 130               | 1                 | 3.0               | 1                 | 2                 | reversible_defect | 0                 |\n",
       "| 282 | 50                | Male              | Typical_Angina    | 144               | 200               | 0                 | 0                 | 126               | 1                 | 0.9               | 1                 | 0                 | reversible_defect | 1                 |\n",
       "| 284 | 66                | Female            | Typical_Angina    | 178               | 228               | 1                 | 1                 | 165               | 1                 | 1.0               | 1                 | 2                 | reversible_defect | 0                 |\n",
       "| 286 | 56                | Male              | Typical_Angina    | 130               | 283               | 1                 | 0                 | 103               | 1                 | 1.6               | 0                 | 0                 | reversible_defect | 1                 |\n",
       "| 287 | 46                | Male              | Typical_Angina    | 120               | 249               | 0                 | 0                 | 144               | 0                 | 0.8               | 2                 | 0                 | reversible_defect | 1                 |\n",
       "| 289 | 52                | Male              | Typical_Angina    | 125               | 212               | 0                 | 1                 | 168               | 0                 | 1.0               | 2                 | 2                 | reversible_defect | 1                 |\n",
       "| 292 | 40                | Male              | Typical_Angina    | 152               | 223               | 0                 | 1                 | 181               | 0                 | 0.0               | 2                 | 0                 | reversible_defect | 0                 |\n",
       "| 293 | 61                | Male              | Typical_Angina    | 140               | 207               | 0                 | 0                 | 138               | 1                 | 1.9               | 2                 | 1                 | reversible_defect | 1                 |\n",
       "| 294 | 46                | Male              | Typical_Angina    | 140               | 311               | 0                 | 1                 | 120               | 1                 | 1.8               | 1                 | 2                 | reversible_defect | 1                 |\n",
       "| 295 | 57                | Male              | Typical_Angina    | 110               | 335               | 0                 | 1                 | 143               | 1                 | 3.0               | 1                 | 1                 | reversible_defect | 1                 |\n",
       "| 300 | 57                | Female            | Typical_Angina    | 140               | 241               | 0                 | 1                 | 123               | 1                 | 0.2               | 1                 | 0                 | reversible_defect | 1                 |\n",
       "| 301 | 45                | Male              | Asymptomatic      | 110               | 264               | 0                 | 1                 | 132               | 0                 | 1.2               | 1                 | 0                 | reversible_defect | 0                 |\n",
       "\n"
      ],
      "text/plain": [
       "    age sex    Chest_Pain       Rest_blood_pressure chol Fast_blood_sugar\n",
       "1   53  Female Non-Anginal_Pain 128                 216  0               \n",
       "2   52  Male   Typical_Angina   128                 204  1               \n",
       "6   41  Male   Atypical_Angina  135                 203  0               \n",
       "13  56  Male   Typical_Angina   132                 184  0               \n",
       "18  58  Female Typical_Angina   170                 225  1               \n",
       "20  59  Male   Typical_Angina   164                 176  1               \n",
       "24  57  Female Typical_Angina   120                 354  0               \n",
       "30  64  Male   Asymptomatic     110                 211  0               \n",
       "31  58  Female Asymptomatic     150                 283  1               \n",
       "33  58  Female Non-Anginal_Pain 120                 340  0               \n",
       "34  66  Female Asymptomatic     150                 226  0               \n",
       "35  43  Male   Typical_Angina   150                 247  0               \n",
       "37  44  Male   Non-Anginal_Pain 130                 233  0               \n",
       "38  42  Male   Typical_Angina   140                 226  0               \n",
       "39  61  Male   Non-Anginal_Pain 150                 243  1               \n",
       "40  71  Female Atypical_Angina  160                 302  0               \n",
       "43  65  Female Non-Anginal_Pain 140                 417  1               \n",
       "44  53  Male   Non-Anginal_Pain 130                 197  1               \n",
       "45  41  Female Atypical_Angina  105                 198  0               \n",
       "47  54  Male   Non-Anginal_Pain 125                 273  0               \n",
       "50  54  Female Non-Anginal_Pain 135                 304  1               \n",
       "52  65  Female Non-Anginal_Pain 160                 360  0               \n",
       "54  48  Male   Atypical_Angina  130                 245  0               \n",
       "56  53  Female Typical_Angina   130                 264  0               \n",
       "59  44  Male   Non-Anginal_Pain 140                 235  0               \n",
       "65  63  Female Non-Anginal_Pain 135                 252  0               \n",
       "67  48  Male   Typical_Angina   122                 222  0               \n",
       "72  58  Male   Non-Anginal_Pain 140                 211  1               \n",
       "76  44  Male   Atypical_Angina  120                 220  0               \n",
       "80  43  Female Non-Anginal_Pain 122                 213  0               \n",
       "... ... ...    ...              ...                 ...  ...             \n",
       "255 65  Male   Typical_Angina   135                 254  0               \n",
       "256 48  Male   Typical_Angina   130                 256  1               \n",
       "257 63  Female Typical_Angina   150                 407  0               \n",
       "258 55  Male   Typical_Angina   140                 217  0               \n",
       "259 56  Female Typical_Angina   200                 288  1               \n",
       "260 54  Male   Typical_Angina   110                 239  0               \n",
       "261 70  Male   Typical_Angina   145                 174  0               \n",
       "262 62  Male   Atypical_Angina  120                 281  0               \n",
       "264 59  Male   Asymptomatic     170                 288  0               \n",
       "265 64  Male   Non-Anginal_Pain 125                 309  0               \n",
       "268 51  Male   Typical_Angina   140                 299  0               \n",
       "270 60  Male   Typical_Angina   140                 293  0               \n",
       "271 35  Male   Typical_Angina   126                 282  0               \n",
       "274 48  Male   Typical_Angina   124                 274  0               \n",
       "275 56  Female Typical_Angina   134                 409  0               \n",
       "277 69  Male   Non-Anginal_Pain 140                 254  0               \n",
       "278 51  Male   Typical_Angina   140                 298  0               \n",
       "280 45  Male   Typical_Angina   142                 309  0               \n",
       "281 58  Male   Typical_Angina   128                 259  0               \n",
       "282 50  Male   Typical_Angina   144                 200  0               \n",
       "284 66  Female Typical_Angina   178                 228  1               \n",
       "286 56  Male   Typical_Angina   130                 283  1               \n",
       "287 46  Male   Typical_Angina   120                 249  0               \n",
       "289 52  Male   Typical_Angina   125                 212  0               \n",
       "292 40  Male   Typical_Angina   152                 223  0               \n",
       "293 61  Male   Typical_Angina   140                 207  0               \n",
       "294 46  Male   Typical_Angina   140                 311  0               \n",
       "295 57  Male   Typical_Angina   110                 335  0               \n",
       "300 57  Female Typical_Angina   140                 241  0               \n",
       "301 45  Male   Asymptomatic     110                 264  0               \n",
       "    Resting_result Max_heart_rate Exercise_induce_Agina oldpeak Slope\n",
       "1   0              115            0                     0.0     2    \n",
       "2   1              156            1                     1.0     1    \n",
       "6   1              132            0                     0.0     1    \n",
       "13  0              105            1                     2.1     1    \n",
       "18  0              146            1                     2.8     1    \n",
       "20  0               90            0                     1.0     1    \n",
       "24  1              163            1                     0.6     2    \n",
       "30  0              144            1                     1.8     1    \n",
       "31  0              162            0                     1.0     2    \n",
       "33  1              172            0                     0.0     2    \n",
       "34  1              114            0                     2.6     0    \n",
       "35  1              171            0                     1.5     2    \n",
       "37  1              179            1                     0.4     2    \n",
       "38  1              178            0                     0.0     2    \n",
       "39  1              137            1                     1.0     1    \n",
       "40  1              162            0                     0.4     2    \n",
       "43  0              157            0                     0.8     2    \n",
       "44  0              152            0                     1.2     0    \n",
       "45  1              168            0                     0.0     2    \n",
       "47  0              152            0                     0.5     0    \n",
       "50  1              170            0                     0.0     2    \n",
       "52  0              151            0                     0.8     2    \n",
       "54  0              180            0                     0.2     1    \n",
       "56  0              143            0                     0.4     1    \n",
       "59  0              180            0                     0.0     2    \n",
       "65  0              172            0                     0.0     2    \n",
       "67  0              186            0                     0.0     2    \n",
       "72  0              165            0                     0.0     2    \n",
       "76  1              170            0                     0.0     2    \n",
       "80  1              165            0                     0.2     1    \n",
       "... ...            ...            ...                   ...     ...  \n",
       "255 0              127            0                     2.8     1    \n",
       "256 0              150            1                     0.0     2    \n",
       "257 0              154            0                     4.0     1    \n",
       "258 1              111            1                     5.6     0    \n",
       "259 0              133            1                     4.0     0    \n",
       "260 1              126            1                     2.8     1    \n",
       "261 1              125            1                     2.6     0    \n",
       "262 0              103            0                     1.4     1    \n",
       "264 0              159            0                     0.2     1    \n",
       "265 1              131            1                     1.8     1    \n",
       "268 1              173            1                     1.6     2    \n",
       "270 0              170            0                     1.2     1    \n",
       "271 0              156            1                     0.0     2    \n",
       "274 0              166            0                     0.5     1    \n",
       "275 0              150            1                     1.9     1    \n",
       "277 0              146            0                     2.0     1    \n",
       "278 1              122            1                     4.2     1    \n",
       "280 0              147            1                     0.0     1    \n",
       "281 0              130            1                     3.0     1    \n",
       "282 0              126            1                     0.9     1    \n",
       "284 1              165            1                     1.0     1    \n",
       "286 0              103            1                     1.6     0    \n",
       "287 0              144            0                     0.8     2    \n",
       "289 1              168            0                     1.0     2    \n",
       "292 1              181            0                     0.0     2    \n",
       "293 0              138            1                     1.9     2    \n",
       "294 1              120            1                     1.8     1    \n",
       "295 1              143            1                     3.0     1    \n",
       "300 1              123            1                     0.2     1    \n",
       "301 1              132            0                     1.2     1    \n",
       "    Number_.of_vessel thall_Rate        train\n",
       "1   0                 fixed_defect      0    \n",
       "2   0                 normal            0    \n",
       "6   0                 normal            1    \n",
       "13  1                 normal            0    \n",
       "18  2                 normal            1    \n",
       "20  2                 normal            1    \n",
       "24  0                 fixed_defect      1    \n",
       "30  0                 fixed_defect      1    \n",
       "31  0                 fixed_defect      1    \n",
       "33  0                 fixed_defect      0    \n",
       "34  0                 fixed_defect      1    \n",
       "35  0                 fixed_defect      1    \n",
       "37  0                 fixed_defect      1    \n",
       "38  0                 fixed_defect      0    \n",
       "39  0                 fixed_defect      1    \n",
       "40  2                 fixed_defect      0    \n",
       "43  1                 fixed_defect      1    \n",
       "44  0                 fixed_defect      0    \n",
       "45  1                 fixed_defect      1    \n",
       "47  1                 fixed_defect      1    \n",
       "50  0                 fixed_defect      1    \n",
       "52  0                 fixed_defect      0    \n",
       "54  0                 fixed_defect      0    \n",
       "56  0                 fixed_defect      1    \n",
       "59  0                 fixed_defect      0    \n",
       "65  0                 fixed_defect      1    \n",
       "67  0                 fixed_defect      1    \n",
       "72  0                 fixed_defect      0    \n",
       "76  0                 fixed_defect      1    \n",
       "80  0                 fixed_defect      1    \n",
       "... ...               ...               ...  \n",
       "255 1                 reversible_defect 1    \n",
       "256 2                 reversible_defect 0    \n",
       "257 3                 reversible_defect 1    \n",
       "258 0                 reversible_defect 1    \n",
       "259 2                 reversible_defect 0    \n",
       "260 1                 reversible_defect 1    \n",
       "261 0                 reversible_defect 1    \n",
       "262 1                 reversible_defect 1    \n",
       "264 0                 reversible_defect 1    \n",
       "265 0                 reversible_defect 1    \n",
       "268 0                 reversible_defect 1    \n",
       "270 2                 reversible_defect 1    \n",
       "271 0                 reversible_defect 1    \n",
       "274 0                 reversible_defect 0    \n",
       "275 2                 reversible_defect 0    \n",
       "277 3                 reversible_defect 1    \n",
       "278 3                 reversible_defect 1    \n",
       "280 3                 reversible_defect 0    \n",
       "281 2                 reversible_defect 0    \n",
       "282 0                 reversible_defect 1    \n",
       "284 2                 reversible_defect 0    \n",
       "286 0                 reversible_defect 1    \n",
       "287 0                 reversible_defect 1    \n",
       "289 2                 reversible_defect 1    \n",
       "292 0                 reversible_defect 0    \n",
       "293 1                 reversible_defect 1    \n",
       "294 2                 reversible_defect 1    \n",
       "295 1                 reversible_defect 1    \n",
       "300 0                 reversible_defect 1    \n",
       "301 0                 reversible_defect 0    "
      ]
     },
     "metadata": {},
     "output_type": "display_data"
    }
   ],
   "source": [
    "# Train/validation split\n",
    "set.seed(3) # for reproducibility\n",
    "idx <- createDataPartition(factor(heart$output), \n",
    "                           times = 1, # one time\n",
    "                           p = 0.5, # 50% proportion\n",
    "                           list = FALSE)\n",
    "\n",
    "## train set\n",
    "trainset <- heart[idx,] \n",
    "## validation set\n",
    "validation_set <- heart[-idx,] %>% select(-output)   \n",
    "validation_labels <- heart[-idx,] %>% select(output)\n",
    "validation_set"
   ]
  },
  {
   "cell_type": "code",
   "execution_count": 17,
   "metadata": {},
   "outputs": [],
   "source": [
    "# Now, we are going to use the caret package to train our model.\n",
    "control <- trainControl(method = \"cv\", # cross-validation\n",
    "                        number = 10,\n",
    "                        verboseIter = TRUE,\n",
    "                        savePredictions = \"final\",\n",
    "                        classProbs = TRUE) "
   ]
  },
  {
   "cell_type": "code",
   "execution_count": 18,
   "metadata": {},
   "outputs": [
    {
     "name": "stdout",
     "output_type": "stream",
     "text": [
      "+ Fold01: mtry=4 \n",
      "- Fold01: mtry=4 \n",
      "+ Fold02: mtry=4 \n",
      "- Fold02: mtry=4 \n",
      "+ Fold03: mtry=4 \n",
      "- Fold03: mtry=4 \n",
      "+ Fold04: mtry=4 \n",
      "- Fold04: mtry=4 \n",
      "+ Fold05: mtry=4 \n",
      "- Fold05: mtry=4 \n",
      "+ Fold06: mtry=4 \n",
      "- Fold06: mtry=4 \n",
      "+ Fold07: mtry=4 \n",
      "- Fold07: mtry=4 \n",
      "+ Fold08: mtry=4 \n",
      "- Fold08: mtry=4 \n",
      "+ Fold09: mtry=4 \n",
      "- Fold09: mtry=4 \n",
      "+ Fold10: mtry=4 \n",
      "- Fold10: mtry=4 \n",
      "Aggregating results\n",
      "Fitting final model on full training set\n"
     ]
    }
   ],
   "source": [
    "set.seed(1)\n",
    "model <- train(output ~ ., data = trainSet,\n",
    "               trControl = control,\n",
    "               maximize = TRUE,\n",
    "               tuneGrid = data.frame(mtry = 4),\n",
    "               method = \"rf\")"
   ]
  },
  {
   "cell_type": "code",
   "execution_count": 19,
   "metadata": {},
   "outputs": [
    {
     "data": {
      "text/plain": [
       "Random Forest \n",
       "\n",
       "214 samples\n",
       " 13 predictor\n",
       "  2 classes: 'No_Disease', 'Disease' \n",
       "\n",
       "No pre-processing\n",
       "Resampling: Cross-Validated (10 fold) \n",
       "Summary of sample sizes: 194, 192, 193, 192, 192, 193, ... \n",
       "Resampling results:\n",
       "\n",
       "  Accuracy   Kappa   \n",
       "  0.7936147  0.580728\n",
       "\n",
       "Tuning parameter 'mtry' was held constant at a value of 4"
      ]
     },
     "metadata": {},
     "output_type": "display_data"
    }
   ],
   "source": [
    "model"
   ]
  },
  {
   "cell_type": "code",
   "execution_count": 20,
   "metadata": {},
   "outputs": [
    {
     "data": {
      "text/plain": [
       "Cross-Validated (10 fold) Confusion Matrix \n",
       "\n",
       "(entries are percentual average cell counts across resamples)\n",
       " \n",
       "            Reference\n",
       "Prediction   No_Disease Disease\n",
       "  No_Disease       33.6     9.3\n",
       "  Disease          11.2    45.8\n",
       "                            \n",
       " Accuracy (average) : 0.7944\n"
      ]
     },
     "metadata": {},
     "output_type": "display_data"
    }
   ],
   "source": [
    "confusionMatrix.train(model)"
   ]
  },
  {
   "cell_type": "code",
   "execution_count": 21,
   "metadata": {},
   "outputs": [],
   "source": [
    "val_preds <- predict(model, validation_set)"
   ]
  },
  {
   "cell_type": "code",
   "execution_count": 22,
   "metadata": {},
   "outputs": [
    {
     "data": {
      "text/plain": [
       "Confusion Matrix and Statistics\n",
       "\n",
       "            Reference\n",
       "Prediction   No_Disease Disease\n",
       "  No_Disease         65       5\n",
       "  Disease             4      77\n",
       "                                          \n",
       "               Accuracy : 0.9404          \n",
       "                 95% CI : (0.8899, 0.9724)\n",
       "    No Information Rate : 0.543           \n",
       "    P-Value [Acc > NIR] : <2e-16          \n",
       "                                          \n",
       "                  Kappa : 0.88            \n",
       "                                          \n",
       " Mcnemar's Test P-Value : 1               \n",
       "                                          \n",
       "            Sensitivity : 0.9420          \n",
       "            Specificity : 0.9390          \n",
       "         Pos Pred Value : 0.9286          \n",
       "         Neg Pred Value : 0.9506          \n",
       "             Prevalence : 0.4570          \n",
       "         Detection Rate : 0.4305          \n",
       "   Detection Prevalence : 0.4636          \n",
       "      Balanced Accuracy : 0.9405          \n",
       "                                          \n",
       "       'Positive' Class : No_Disease      \n",
       "                                          "
      ]
     },
     "metadata": {},
     "output_type": "display_data"
    }
   ],
   "source": [
    "confusionMatrix(val_preds, validation_labels$output)"
   ]
  },
  {
   "cell_type": "code",
   "execution_count": 23,
   "metadata": {},
   "outputs": [
    {
     "data": {
      "text/plain": [
       "rf variable importance\n",
       "\n",
       "  only 20 most important variables shown (out of 21)\n",
       "\n",
       "                            Overall\n",
       "oldpeak                     100.000\n",
       "Max_heart_rate               92.774\n",
       "thall_Ratefixed_defect       83.545\n",
       "thall_Ratereversible_defect  67.096\n",
       "chol                         64.108\n",
       "age                          61.499\n",
       "Rest_blood_pressure          49.851\n",
       "Exercise_induce_Agina1       41.253\n",
       "Number_.of_vessel1           27.307\n",
       "Chest_PainNon-Anginal_Pain   27.136\n",
       "sexMale                      22.126\n",
       "Slope2                       20.865\n",
       "Chest_PainAsymptomatic       18.023\n",
       "Number_.of_vessel2           17.908\n",
       "Slope1                       16.065\n",
       "Resting_result1              15.861\n",
       "Chest_PainAtypical_Angina     7.979\n",
       "Fast_blood_sugar1             7.822\n",
       "Number_.of_vessel3            6.433\n",
       "Number_.of_vessel4            1.341"
      ]
     },
     "metadata": {},
     "output_type": "display_data"
    }
   ],
   "source": [
    "varImp(model)"
   ]
  },
  {
   "cell_type": "code",
   "execution_count": 24,
   "metadata": {},
   "outputs": [
    {
     "data": {
      "text/plain": [
       "\n",
       "Call:\n",
       " randomForest(formula = output ~ ., data = training, ntree = 100,      mtry = 2, importance = TRUE) \n",
       "               Type of random forest: classification\n",
       "                     Number of trees: 100\n",
       "No. of variables tried at each split: 2\n",
       "\n",
       "        OOB estimate of  error rate: 20.53%\n",
       "Confusion matrix:\n",
       "           No_Disease Disease class.error\n",
       "No_Disease         47      17   0.2656250\n",
       "Disease            14      73   0.1609195"
      ]
     },
     "metadata": {},
     "output_type": "display_data"
    }
   ],
   "source": [
    "# Another library for random forest\n",
    "\n",
    "# Set random seed to make results reproducible:\n",
    "set.seed(17)\n",
    "# Calculate the size of each of the data sets:\n",
    "data_set_size <- floor(nrow(heart)/2)\n",
    "# Generate a random sample of \"data_set_size\" indexes\n",
    "indexes <- sample(1:nrow(heart), size = data_set_size)\n",
    "\n",
    "# Assign the data to the correct sets\n",
    "training <- heart[indexes,]\n",
    "validation1 <- heart[-indexes,]\n",
    "\n",
    "#import the package\n",
    "library(randomForest)\n",
    "# Perform training:\n",
    "rf_classifier = randomForest(output ~ ., data=training, ntree=100, mtry=2, importance=TRUE)\n",
    "rf_classifier"
   ]
  },
  {
   "cell_type": "code",
   "execution_count": 25,
   "metadata": {},
   "outputs": [
    {
     "data": {
      "image/png": "[encoded data removed]",
      "text/plain": [
       "plot without title"
      ]
     },
     "metadata": {},
     "output_type": "display_data"
    }
   ],
   "source": [
    "varImpPlot(rf_classifier)"
   ]
  },
  {
   "cell_type": "code",
   "execution_count": 26,
   "metadata": {},
   "outputs": [
    {
     "name": "stdout",
     "output_type": "stream",
     "text": [
      "\n",
      "Call:\n",
      " randomForest(formula = output ~ ., data = trainSet, ntree = 300,      mtry = 8, importance = TRUE, proximity = TRUE) \n",
      "               Type of random forest: classification\n",
      "                     Number of trees: 300\n",
      "No. of variables tried at each split: 8\n",
      "\n",
      "        OOB estimate of  error rate: 16.36%\n",
      "Confusion matrix:\n",
      "           No_Disease Disease class.error\n",
      "No_Disease         75      21   0.2187500\n",
      "Disease            14     104   0.1186441\n"
     ]
    },
    {
     "data": {
      "text/html": [
       "<dl>\n",
       "\t<dt>$names</dt>\n",
       "\t\t<dd><ol class=list-inline>\n",
       "\t<li>'call'</li>\n",
       "\t<li>'type'</li>\n",
       "\t<li>'predicted'</li>\n",
       "\t<li>'err.rate'</li>\n",
       "\t<li>'confusion'</li>\n",
       "\t<li>'votes'</li>\n",
       "\t<li>'oob.times'</li>\n",
       "\t<li>'classes'</li>\n",
       "\t<li>'importance'</li>\n",
       "\t<li>'importanceSD'</li>\n",
       "\t<li>'localImportance'</li>\n",
       "\t<li>'proximity'</li>\n",
       "\t<li>'ntree'</li>\n",
       "\t<li>'mtry'</li>\n",
       "\t<li>'forest'</li>\n",
       "\t<li>'y'</li>\n",
       "\t<li>'test'</li>\n",
       "\t<li>'inbag'</li>\n",
       "\t<li>'terms'</li>\n",
       "</ol>\n",
       "</dd>\n",
       "\t<dt>$class</dt>\n",
       "\t\t<dd><ol class=list-inline>\n",
       "\t<li>'randomForest.formula'</li>\n",
       "\t<li>'randomForest'</li>\n",
       "</ol>\n",
       "</dd>\n",
       "</dl>\n"
      ],
      "text/latex": [
       "\\begin{description}\n",
       "\\item[\\$names] \\begin{enumerate*}\n",
       "\\item 'call'\n",
       "\\item 'type'\n",
       "\\item 'predicted'\n",
       "\\item 'err.rate'\n",
       "\\item 'confusion'\n",
       "\\item 'votes'\n",
       "\\item 'oob.times'\n",
       "\\item 'classes'\n",
       "\\item 'importance'\n",
       "\\item 'importanceSD'\n",
       "\\item 'localImportance'\n",
       "\\item 'proximity'\n",
       "\\item 'ntree'\n",
       "\\item 'mtry'\n",
       "\\item 'forest'\n",
       "\\item 'y'\n",
       "\\item 'test'\n",
       "\\item 'inbag'\n",
       "\\item 'terms'\n",
       "\\end{enumerate*}\n",
       "\n",
       "\\item[\\$class] \\begin{enumerate*}\n",
       "\\item 'randomForest.formula'\n",
       "\\item 'randomForest'\n",
       "\\end{enumerate*}\n",
       "\n",
       "\\end{description}\n"
      ],
      "text/markdown": [
       "$names\n",
       ":   1. 'call'\n",
       "2. 'type'\n",
       "3. 'predicted'\n",
       "4. 'err.rate'\n",
       "5. 'confusion'\n",
       "6. 'votes'\n",
       "7. 'oob.times'\n",
       "8. 'classes'\n",
       "9. 'importance'\n",
       "10. 'importanceSD'\n",
       "11. 'localImportance'\n",
       "12. 'proximity'\n",
       "13. 'ntree'\n",
       "14. 'mtry'\n",
       "15. 'forest'\n",
       "16. 'y'\n",
       "17. 'test'\n",
       "18. 'inbag'\n",
       "19. 'terms'\n",
       "\n",
       "\n",
       "\n",
       "$class\n",
       ":   1. 'randomForest.formula'\n",
       "2. 'randomForest'\n",
       "\n",
       "\n",
       "\n",
       "\n",
       "\n"
      ],
      "text/plain": [
       "$names\n",
       " [1] \"call\"            \"type\"            \"predicted\"       \"err.rate\"       \n",
       " [5] \"confusion\"       \"votes\"           \"oob.times\"       \"classes\"        \n",
       " [9] \"importance\"      \"importanceSD\"    \"localImportance\" \"proximity\"      \n",
       "[13] \"ntree\"           \"mtry\"            \"forest\"          \"y\"              \n",
       "[17] \"test\"            \"inbag\"           \"terms\"          \n",
       "\n",
       "$class\n",
       "[1] \"randomForest.formula\" \"randomForest\"        \n"
      ]
     },
     "metadata": {},
     "output_type": "display_data"
    }
   ],
   "source": [
    "set.seed(222)\n",
    "rf <- randomForest(output~., data=trainSet,\n",
    "                   ntree = 300,\n",
    "                   mtry = 8,\n",
    "                   importance = TRUE,\n",
    "                   proximity = TRUE)\n",
    "print(rf)\n",
    "attributes(rf)"
   ]
  },
  {
   "cell_type": "code",
   "execution_count": 27,
   "metadata": {},
   "outputs": [
    {
     "data": {
      "text/plain": [
       "Confusion Matrix and Statistics\n",
       "\n",
       "            Reference\n",
       "Prediction   No_Disease Disease\n",
       "  No_Disease         96       0\n",
       "  Disease             0     118\n",
       "                                     \n",
       "               Accuracy : 1          \n",
       "                 95% CI : (0.9829, 1)\n",
       "    No Information Rate : 0.5514     \n",
       "    P-Value [Acc > NIR] : < 2.2e-16  \n",
       "                                     \n",
       "                  Kappa : 1          \n",
       "                                     \n",
       " Mcnemar's Test P-Value : NA         \n",
       "                                     \n",
       "            Sensitivity : 1.0000     \n",
       "            Specificity : 1.0000     \n",
       "         Pos Pred Value : 1.0000     \n",
       "         Neg Pred Value : 1.0000     \n",
       "             Prevalence : 0.4486     \n",
       "         Detection Rate : 0.4486     \n",
       "   Detection Prevalence : 0.4486     \n",
       "      Balanced Accuracy : 1.0000     \n",
       "                                     \n",
       "       'Positive' Class : No_Disease \n",
       "                                     "
      ]
     },
     "metadata": {},
     "output_type": "display_data"
    }
   ],
   "source": [
    "p1 <- predict(rf, trainSet)\n",
    "confusionMatrix(p1, trainSet$output)"
   ]
  },
  {
   "cell_type": "code",
   "execution_count": 28,
   "metadata": {},
   "outputs": [
    {
     "data": {
      "text/plain": [
       "Confusion Matrix and Statistics\n",
       "\n",
       "            Reference\n",
       "Prediction   No_Disease Disease\n",
       "  No_Disease         32       9\n",
       "  Disease            10      38\n",
       "                                          \n",
       "               Accuracy : 0.7865          \n",
       "                 95% CI : (0.6869, 0.8663)\n",
       "    No Information Rate : 0.5281          \n",
       "    P-Value [Acc > NIR] : 3.952e-07       \n",
       "                                          \n",
       "                  Kappa : 0.5711          \n",
       "                                          \n",
       " Mcnemar's Test P-Value : 1               \n",
       "                                          \n",
       "            Sensitivity : 0.7619          \n",
       "            Specificity : 0.8085          \n",
       "         Pos Pred Value : 0.7805          \n",
       "         Neg Pred Value : 0.7917          \n",
       "             Prevalence : 0.4719          \n",
       "         Detection Rate : 0.3596          \n",
       "   Detection Prevalence : 0.4607          \n",
       "      Balanced Accuracy : 0.7852          \n",
       "                                          \n",
       "       'Positive' Class : No_Disease      \n",
       "                                          "
      ]
     },
     "metadata": {},
     "output_type": "display_data"
    }
   ],
   "source": [
    "p2 <- predict(rf, testSet)\n",
    "confusionMatrix(p2, testSet$output)"
   ]
  },
  {
   "cell_type": "code",
   "execution_count": 29,
   "metadata": {},
   "outputs": [
    {
     "data": {
      "image/png": "[encoded data removed]",
      "text/plain": [
       "Plot with title \"rf\""
      ]
     },
     "metadata": {},
     "output_type": "display_data"
    }
   ],
   "source": [
    "plot(rf)"
   ]
  },
  {
   "cell_type": "code",
   "execution_count": 30,
   "metadata": {},
   "outputs": [
    {
     "name": "stdout",
     "output_type": "stream",
     "text": [
      "mtry = 3  OOB error = 18.69% \n",
      "Searching left ...\n",
      "mtry = 6 \tOOB error = 17.76% \n",
      "0.05 0.05 \n",
      "mtry = 12 \tOOB error = 17.76% \n",
      "0 0.05 \n",
      "Searching right ...\n",
      "mtry = 1 \tOOB error = 16.36% \n",
      "0.07894737 0.05 \n"
     ]
    },
    {
     "name": "stderr",
     "output_type": "stream",
     "text": [
      "Warning message in randomForest.default(x, y, mtry = mtryCur, ntree = ntreeTry, :\n",
      "\"invalid mtry: reset to within valid range\""
     ]
    },
    {
     "name": "stdout",
     "output_type": "stream",
     "text": [
      "mtry = 0 \tOOB error = 17.76% \n",
      "-0.08571429 0.05 \n"
     ]
    },
    {
     "name": "stderr",
     "output_type": "stream",
     "text": [
      "Warning message in xy.coords(x, y, xlabel, ylabel, log):\n",
      "\"1 x value <= 0 omitted from logarithmic plot\""
     ]
    },
    {
     "data": {
      "image/png": "[encoded data removed]",
      "text/plain": [
       "plot without title"
      ]
     },
     "metadata": {},
     "output_type": "display_data"
    }
   ],
   "source": [
    "t <- tuneRF(trainSet[,-14], trainSet[,14],\n",
    "       stepFactor = 0.5,\n",
    "       plot = TRUE,\n",
    "       ntreeTry = 150,\n",
    "       trace = TRUE,\n",
    "       improve = 0.05)"
   ]
  },
  {
   "cell_type": "code",
   "execution_count": 31,
   "metadata": {},
   "outputs": [
    {
     "data": {
      "image/png": "[encoded data removed]",
      "text/plain": [
       "Plot with title \"No. of Nodes for the Trees\""
      ]
     },
     "metadata": {},
     "output_type": "display_data"
    }
   ],
   "source": [
    "hist(treesize(rf),\n",
    "     main = \"No. of Nodes for the Trees\",\n",
    "     col = \"blue\")"
   ]
  },
  {
   "cell_type": "code",
   "execution_count": 32,
   "metadata": {},
   "outputs": [
    {
     "data": {
      "text/html": [
       "<table>\n",
       "<thead><tr><th></th><th scope=col>No_Disease</th><th scope=col>Disease</th><th scope=col>MeanDecreaseAccuracy</th><th scope=col>MeanDecreaseGini</th></tr></thead>\n",
       "<tbody>\n",
       "\t<tr><th scope=row>age</th><td> 1.0444862</td><td> 0.0714290</td><td> 0.8927619</td><td> 6.2905957</td></tr>\n",
       "\t<tr><th scope=row>sex</th><td> 1.7071563</td><td> 6.2651818</td><td> 6.1389540</td><td> 1.4896982</td></tr>\n",
       "\t<tr><th scope=row>Chest_Pain</th><td>14.8016599</td><td>10.8698504</td><td>17.2746398</td><td>15.4771982</td></tr>\n",
       "\t<tr><th scope=row>Rest_blood_pressure</th><td>-1.9283871</td><td>-1.0269198</td><td>-1.7974720</td><td> 5.6858527</td></tr>\n",
       "\t<tr><th scope=row>chol</th><td> 0.8337133</td><td> 0.9390275</td><td> 1.2573738</td><td> 8.6225247</td></tr>\n",
       "\t<tr><th scope=row>Fast_blood_sugar</th><td>-0.2723006</td><td>-0.6964345</td><td>-0.8862541</td><td> 0.5262935</td></tr>\n",
       "\t<tr><th scope=row>Resting_result</th><td>-0.6220295</td><td> 1.1648683</td><td> 0.6816256</td><td> 1.3617288</td></tr>\n",
       "\t<tr><th scope=row>Max_heart_rate</th><td> 1.7290912</td><td> 5.7925792</td><td> 5.9985118</td><td>11.3584362</td></tr>\n",
       "\t<tr><th scope=row>Exercise_induce_Agina</th><td> 3.6869999</td><td> 1.0864636</td><td> 3.6273437</td><td> 3.4535833</td></tr>\n",
       "\t<tr><th scope=row>oldpeak</th><td>13.7975311</td><td>13.6550541</td><td>17.5809418</td><td>14.6533756</td></tr>\n",
       "\t<tr><th scope=row>Slope</th><td> 3.4016850</td><td> 0.3139233</td><td> 2.7838499</td><td> 2.1464041</td></tr>\n",
       "\t<tr><th scope=row>Number_.of_vessel</th><td>10.6036582</td><td>17.7244837</td><td>19.3685494</td><td>13.3503748</td></tr>\n",
       "\t<tr><th scope=row>thall_Rate</th><td>16.2083911</td><td>15.8117901</td><td>20.7283615</td><td>21.0689497</td></tr>\n",
       "</tbody>\n",
       "</table>\n"
      ],
      "text/latex": [
       "\\begin{tabular}{r|llll}\n",
       "  & No\\_Disease & Disease & MeanDecreaseAccuracy & MeanDecreaseGini\\\\\n",
       "\\hline\n",
       "\tage &  1.0444862 &  0.0714290 &  0.8927619 &  6.2905957\\\\\n",
       "\tsex &  1.7071563 &  6.2651818 &  6.1389540 &  1.4896982\\\\\n",
       "\tChest\\_Pain & 14.8016599 & 10.8698504 & 17.2746398 & 15.4771982\\\\\n",
       "\tRest\\_blood\\_pressure & -1.9283871 & -1.0269198 & -1.7974720 &  5.6858527\\\\\n",
       "\tchol &  0.8337133 &  0.9390275 &  1.2573738 &  8.6225247\\\\\n",
       "\tFast\\_blood\\_sugar & -0.2723006 & -0.6964345 & -0.8862541 &  0.5262935\\\\\n",
       "\tResting\\_result & -0.6220295 &  1.1648683 &  0.6816256 &  1.3617288\\\\\n",
       "\tMax\\_heart\\_rate &  1.7290912 &  5.7925792 &  5.9985118 & 11.3584362\\\\\n",
       "\tExercise\\_induce\\_Agina &  3.6869999 &  1.0864636 &  3.6273437 &  3.4535833\\\\\n",
       "\toldpeak & 13.7975311 & 13.6550541 & 17.5809418 & 14.6533756\\\\\n",
       "\tSlope &  3.4016850 &  0.3139233 &  2.7838499 &  2.1464041\\\\\n",
       "\tNumber\\_.of\\_vessel & 10.6036582 & 17.7244837 & 19.3685494 & 13.3503748\\\\\n",
       "\tthall\\_Rate & 16.2083911 & 15.8117901 & 20.7283615 & 21.0689497\\\\\n",
       "\\end{tabular}\n"
      ],
      "text/markdown": [
       "\n",
       "| <!--/--> | No_Disease | Disease | MeanDecreaseAccuracy | MeanDecreaseGini |\n",
       "|---|---|---|---|---|\n",
       "| age |  1.0444862 |  0.0714290 |  0.8927619 |  6.2905957 |\n",
       "| sex |  1.7071563 |  6.2651818 |  6.1389540 |  1.4896982 |\n",
       "| Chest_Pain | 14.8016599 | 10.8698504 | 17.2746398 | 15.4771982 |\n",
       "| Rest_blood_pressure | -1.9283871 | -1.0269198 | -1.7974720 |  5.6858527 |\n",
       "| chol |  0.8337133 |  0.9390275 |  1.2573738 |  8.6225247 |\n",
       "| Fast_blood_sugar | -0.2723006 | -0.6964345 | -0.8862541 |  0.5262935 |\n",
       "| Resting_result | -0.6220295 |  1.1648683 |  0.6816256 |  1.3617288 |\n",
       "| Max_heart_rate |  1.7290912 |  5.7925792 |  5.9985118 | 11.3584362 |\n",
       "| Exercise_induce_Agina |  3.6869999 |  1.0864636 |  3.6273437 |  3.4535833 |\n",
       "| oldpeak | 13.7975311 | 13.6550541 | 17.5809418 | 14.6533756 |\n",
       "| Slope |  3.4016850 |  0.3139233 |  2.7838499 |  2.1464041 |\n",
       "| Number_.of_vessel | 10.6036582 | 17.7244837 | 19.3685494 | 13.3503748 |\n",
       "| thall_Rate | 16.2083911 | 15.8117901 | 20.7283615 | 21.0689497 |\n",
       "\n"
      ],
      "text/plain": [
       "                      No_Disease Disease    MeanDecreaseAccuracy\n",
       "age                    1.0444862  0.0714290  0.8927619          \n",
       "sex                    1.7071563  6.2651818  6.1389540          \n",
       "Chest_Pain            14.8016599 10.8698504 17.2746398          \n",
       "Rest_blood_pressure   -1.9283871 -1.0269198 -1.7974720          \n",
       "chol                   0.8337133  0.9390275  1.2573738          \n",
       "Fast_blood_sugar      -0.2723006 -0.6964345 -0.8862541          \n",
       "Resting_result        -0.6220295  1.1648683  0.6816256          \n",
       "Max_heart_rate         1.7290912  5.7925792  5.9985118          \n",
       "Exercise_induce_Agina  3.6869999  1.0864636  3.6273437          \n",
       "oldpeak               13.7975311 13.6550541 17.5809418          \n",
       "Slope                  3.4016850  0.3139233  2.7838499          \n",
       "Number_.of_vessel     10.6036582 17.7244837 19.3685494          \n",
       "thall_Rate            16.2083911 15.8117901 20.7283615          \n",
       "                      MeanDecreaseGini\n",
       "age                    6.2905957      \n",
       "sex                    1.4896982      \n",
       "Chest_Pain            15.4771982      \n",
       "Rest_blood_pressure    5.6858527      \n",
       "chol                   8.6225247      \n",
       "Fast_blood_sugar       0.5262935      \n",
       "Resting_result         1.3617288      \n",
       "Max_heart_rate        11.3584362      \n",
       "Exercise_induce_Agina  3.4535833      \n",
       "oldpeak               14.6533756      \n",
       "Slope                  2.1464041      \n",
       "Number_.of_vessel     13.3503748      \n",
       "thall_Rate            21.0689497      "
      ]
     },
     "metadata": {},
     "output_type": "display_data"
    },
    {
     "data": {
      "text/html": [
       "<ol class=list-inline>\n",
       "\t<li>926</li>\n",
       "\t<li>176</li>\n",
       "\t<li>647</li>\n",
       "\t<li>866</li>\n",
       "\t<li>1113</li>\n",
       "\t<li>61</li>\n",
       "\t<li>167</li>\n",
       "\t<li>1160</li>\n",
       "\t<li>164</li>\n",
       "\t<li>1005</li>\n",
       "\t<li>242</li>\n",
       "\t<li>605</li>\n",
       "\t<li>433</li>\n",
       "</ol>\n"
      ],
      "text/latex": [
       "\\begin{enumerate*}\n",
       "\\item 926\n",
       "\\item 176\n",
       "\\item 647\n",
       "\\item 866\n",
       "\\item 1113\n",
       "\\item 61\n",
       "\\item 167\n",
       "\\item 1160\n",
       "\\item 164\n",
       "\\item 1005\n",
       "\\item 242\n",
       "\\item 605\n",
       "\\item 433\n",
       "\\end{enumerate*}\n"
      ],
      "text/markdown": [
       "1. 926\n",
       "2. 176\n",
       "3. 647\n",
       "4. 866\n",
       "5. 1113\n",
       "6. 61\n",
       "7. 167\n",
       "8. 1160\n",
       "9. 164\n",
       "10. 1005\n",
       "11. 242\n",
       "12. 605\n",
       "13. 433\n",
       "\n",
       "\n"
      ],
      "text/plain": [
       " [1]  926  176  647  866 1113   61  167 1160  164 1005  242  605  433"
      ]
     },
     "metadata": {},
     "output_type": "display_data"
    },
    {
     "data": {
      "image/png": "[encoded data removed]",
      "text/plain": [
       "plot without title"
      ]
     },
     "metadata": {},
     "output_type": "display_data"
    }
   ],
   "source": [
    "varImpPlot(rf,\n",
    "           sort = T,\n",
    "           n.var = 5,\n",
    "           main = \"Top 5 - Variable That Are Important\")\n",
    "importance(rf)\n",
    "varUsed(rf)"
   ]
  },
  {
   "cell_type": "code",
   "execution_count": 33,
   "metadata": {
    "scrolled": false
   },
   "outputs": [
    {
     "data": {
      "image/png": "[encoded data removed]",
      "text/plain": [
       "Plot with title \"Partial Dependence on thall_Rate\""
      ]
     },
     "metadata": {},
     "output_type": "display_data"
    }
   ],
   "source": [
    "partialPlot(rf, trainSet, thall_Rate, \"Disease\")"
   ]
  },
  {
   "cell_type": "code",
   "execution_count": 34,
   "metadata": {},
   "outputs": [
    {
     "data": {
      "text/html": [
       "<table>\n",
       "<thead><tr><th scope=col>left daughter</th><th scope=col>right daughter</th><th scope=col>split var</th><th scope=col>split point</th><th scope=col>status</th><th scope=col>prediction</th></tr></thead>\n",
       "<tbody>\n",
       "\t<tr><td> 2                 </td><td> 3                 </td><td>Number_.of_vessel  </td><td> 14.00             </td><td> 1                 </td><td>NA                 </td></tr>\n",
       "\t<tr><td> 4                 </td><td> 5                 </td><td>Slope              </td><td>  3.00             </td><td> 1                 </td><td>NA                 </td></tr>\n",
       "\t<tr><td> 6                 </td><td> 7                 </td><td>Max_heart_rate     </td><td>129.50             </td><td> 1                 </td><td>NA                 </td></tr>\n",
       "\t<tr><td> 8                 </td><td> 9                 </td><td>age                </td><td> 45.50             </td><td> 1                 </td><td>NA                 </td></tr>\n",
       "\t<tr><td>10                 </td><td>11                 </td><td>sex                </td><td>  1.00             </td><td> 1                 </td><td>NA                 </td></tr>\n",
       "\t<tr><td>12                 </td><td>13                 </td><td>Chest_Pain         </td><td>  4.00             </td><td> 1                 </td><td>NA                 </td></tr>\n",
       "\t<tr><td>14                 </td><td>15                 </td><td>oldpeak            </td><td>  2.60             </td><td> 1                 </td><td>NA                 </td></tr>\n",
       "\t<tr><td> 0                 </td><td> 0                 </td><td>NA                 </td><td>  0.00             </td><td>-1                 </td><td>Disease            </td></tr>\n",
       "\t<tr><td>16                 </td><td>17                 </td><td>oldpeak            </td><td>  0.55             </td><td> 1                 </td><td>NA                 </td></tr>\n",
       "\t<tr><td> 0                 </td><td> 0                 </td><td>NA                 </td><td>  0.00             </td><td>-1                 </td><td>Disease            </td></tr>\n",
       "\t<tr><td>18                 </td><td>19                 </td><td>chol               </td><td>233.50             </td><td> 1                 </td><td>NA                 </td></tr>\n",
       "\t<tr><td> 0                 </td><td> 0                 </td><td>NA                 </td><td>  0.00             </td><td>-1                 </td><td>Disease            </td></tr>\n",
       "\t<tr><td>20                 </td><td>21                 </td><td>sex                </td><td>  1.00             </td><td> 1                 </td><td>NA                 </td></tr>\n",
       "\t<tr><td>22                 </td><td>23                 </td><td>chol               </td><td>308.50             </td><td> 1                 </td><td>NA                 </td></tr>\n",
       "\t<tr><td>24                 </td><td>25                 </td><td>Rest_blood_pressure</td><td>164.00             </td><td> 1                 </td><td>NA                 </td></tr>\n",
       "\t<tr><td>26                 </td><td>27                 </td><td>chol               </td><td>249.50             </td><td> 1                 </td><td>NA                 </td></tr>\n",
       "\t<tr><td>28                 </td><td>29                 </td><td>chol               </td><td>232.00             </td><td> 1                 </td><td>NA                 </td></tr>\n",
       "\t<tr><td>30                 </td><td>31                 </td><td>age                </td><td> 58.50             </td><td> 1                 </td><td>NA                 </td></tr>\n",
       "\t<tr><td> 0                 </td><td> 0                 </td><td>NA                 </td><td>  0.00             </td><td>-1                 </td><td>No_Disease         </td></tr>\n",
       "\t<tr><td>32                 </td><td>33                 </td><td>Rest_blood_pressure</td><td>146.00             </td><td> 1                 </td><td>NA                 </td></tr>\n",
       "\t<tr><td> 0                 </td><td> 0                 </td><td>NA                 </td><td>  0.00             </td><td>-1                 </td><td>No_Disease         </td></tr>\n",
       "\t<tr><td>34                 </td><td>35                 </td><td>age                </td><td> 39.50             </td><td> 1                 </td><td>NA                 </td></tr>\n",
       "\t<tr><td>36                 </td><td>37                 </td><td>Max_heart_rate     </td><td>175.50             </td><td> 1                 </td><td>NA                 </td></tr>\n",
       "\t<tr><td> 0                 </td><td> 0                 </td><td>NA                 </td><td>  0.00             </td><td>-1                 </td><td>No_Disease         </td></tr>\n",
       "\t<tr><td> 0                 </td><td> 0                 </td><td>NA                 </td><td>  0.00             </td><td>-1                 </td><td>Disease            </td></tr>\n",
       "\t<tr><td> 0                 </td><td> 0                 </td><td>NA                 </td><td>  0.00             </td><td>-1                 </td><td>No_Disease         </td></tr>\n",
       "\t<tr><td> 0                 </td><td> 0                 </td><td>NA                 </td><td>  0.00             </td><td>-1                 </td><td>Disease            </td></tr>\n",
       "\t<tr><td>38                 </td><td>39                 </td><td>Chest_Pain         </td><td>  1.00             </td><td> 1                 </td><td>NA                 </td></tr>\n",
       "\t<tr><td> 0                 </td><td> 0                 </td><td>NA                 </td><td>  0.00             </td><td>-1                 </td><td>No_Disease         </td></tr>\n",
       "\t<tr><td>40                 </td><td>41                 </td><td>Max_heart_rate     </td><td>161.00             </td><td> 1                 </td><td>NA                 </td></tr>\n",
       "\t<tr><td>...</td><td>...</td><td>...</td><td>...</td><td>...</td><td>...</td></tr>\n",
       "\t<tr><td>42                 </td><td>43                 </td><td>Rest_blood_pressure</td><td>132.00             </td><td> 1                 </td><td>NA                 </td></tr>\n",
       "\t<tr><td>44                 </td><td>45                 </td><td>Slope              </td><td>  1.00             </td><td> 1                 </td><td>NA                 </td></tr>\n",
       "\t<tr><td> 0                 </td><td> 0                 </td><td>NA                 </td><td>  0.00             </td><td>-1                 </td><td>No_Disease         </td></tr>\n",
       "\t<tr><td> 0                 </td><td> 0                 </td><td>NA                 </td><td>  0.00             </td><td>-1                 </td><td>Disease            </td></tr>\n",
       "\t<tr><td> 0                 </td><td> 0                 </td><td>NA                 </td><td>  0.00             </td><td>-1                 </td><td>No_Disease         </td></tr>\n",
       "\t<tr><td> 0                 </td><td> 0                 </td><td>NA                 </td><td>  0.00             </td><td>-1                 </td><td>Disease            </td></tr>\n",
       "\t<tr><td> 0                 </td><td> 0                 </td><td>NA                 </td><td>  0.00             </td><td>-1                 </td><td>Disease            </td></tr>\n",
       "\t<tr><td>46                 </td><td>47                 </td><td>Fast_blood_sugar   </td><td>  1.00             </td><td> 1                 </td><td>NA                 </td></tr>\n",
       "\t<tr><td> 0                 </td><td> 0                 </td><td>NA                 </td><td>  0.00             </td><td>-1                 </td><td>No_Disease         </td></tr>\n",
       "\t<tr><td> 0                 </td><td> 0                 </td><td>NA                 </td><td>  0.00             </td><td>-1                 </td><td>Disease            </td></tr>\n",
       "\t<tr><td>48                 </td><td>49                 </td><td>age                </td><td> 47.00             </td><td> 1                 </td><td>NA                 </td></tr>\n",
       "\t<tr><td>50                 </td><td>51                 </td><td>thall_Rate         </td><td>  3.00             </td><td> 1                 </td><td>NA                 </td></tr>\n",
       "\t<tr><td> 0                 </td><td> 0                 </td><td>NA                 </td><td>  0.00             </td><td>-1                 </td><td>No_Disease         </td></tr>\n",
       "\t<tr><td> 0                 </td><td> 0                 </td><td>NA                 </td><td>  0.00             </td><td>-1                 </td><td>Disease            </td></tr>\n",
       "\t<tr><td> 0                 </td><td> 0                 </td><td>NA                 </td><td>  0.00             </td><td>-1                 </td><td>Disease            </td></tr>\n",
       "\t<tr><td> 0                 </td><td> 0                 </td><td>NA                 </td><td>  0.00             </td><td>-1                 </td><td>No_Disease         </td></tr>\n",
       "\t<tr><td>52                 </td><td>53                 </td><td>Chest_Pain         </td><td>  4.00             </td><td> 1                 </td><td>NA                 </td></tr>\n",
       "\t<tr><td>54                 </td><td>55                 </td><td>Chest_Pain         </td><td>  1.00             </td><td> 1                 </td><td>NA                 </td></tr>\n",
       "\t<tr><td>56                 </td><td>57                 </td><td>oldpeak            </td><td>  0.05             </td><td> 1                 </td><td>NA                 </td></tr>\n",
       "\t<tr><td> 0                 </td><td> 0                 </td><td>NA                 </td><td>  0.00             </td><td>-1                 </td><td>Disease            </td></tr>\n",
       "\t<tr><td>58                 </td><td>59                 </td><td>chol               </td><td>255.00             </td><td> 1                 </td><td>NA                 </td></tr>\n",
       "\t<tr><td> 0                 </td><td> 0                 </td><td>NA                 </td><td>  0.00             </td><td>-1                 </td><td>Disease            </td></tr>\n",
       "\t<tr><td>60                 </td><td>61                 </td><td>Max_heart_rate     </td><td>154.00             </td><td> 1                 </td><td>NA                 </td></tr>\n",
       "\t<tr><td> 0                 </td><td> 0                 </td><td>NA                 </td><td>  0.00             </td><td>-1                 </td><td>Disease            </td></tr>\n",
       "\t<tr><td>62                 </td><td>63                 </td><td>Resting_result     </td><td>  2.00             </td><td> 1                 </td><td>NA                 </td></tr>\n",
       "\t<tr><td> 0                 </td><td> 0                 </td><td>NA                 </td><td>  0.00             </td><td>-1                 </td><td>No_Disease         </td></tr>\n",
       "\t<tr><td> 0                 </td><td> 0                 </td><td>NA                 </td><td>  0.00             </td><td>-1                 </td><td>No_Disease         </td></tr>\n",
       "\t<tr><td> 0                 </td><td> 0                 </td><td>NA                 </td><td>  0.00             </td><td>-1                 </td><td>Disease            </td></tr>\n",
       "\t<tr><td> 0                 </td><td> 0                 </td><td>NA                 </td><td>  0.00             </td><td>-1                 </td><td>Disease            </td></tr>\n",
       "\t<tr><td> 0                 </td><td> 0                 </td><td>NA                 </td><td>  0.00             </td><td>-1                 </td><td>No_Disease         </td></tr>\n",
       "</tbody>\n",
       "</table>\n"
      ],
      "text/latex": [
       "\\begin{tabular}{r|llllll}\n",
       " left daughter & right daughter & split var & split point & status & prediction\\\\\n",
       "\\hline\n",
       "\t  2                      &  3                      & Number\\_.of\\_vessel   &  14.00                  &  1                      & NA                     \\\\\n",
       "\t  4                  &  5                  & Slope               &   3.00              &  1                  & NA                 \\\\\n",
       "\t  6                      &  7                      & Max\\_heart\\_rate      & 129.50                  &  1                      & NA                     \\\\\n",
       "\t  8                  &  9                  & age                 &  45.50              &  1                  & NA                 \\\\\n",
       "\t 10                  & 11                  & sex                 &   1.00              &  1                  & NA                 \\\\\n",
       "\t 12                    & 13                    & Chest\\_Pain          &   4.00                &  1                    & NA                   \\\\\n",
       "\t 14                  & 15                  & oldpeak             &   2.60              &  1                  & NA                 \\\\\n",
       "\t  0                  &  0                  & NA                  &   0.00              & -1                  & Disease            \\\\\n",
       "\t 16                  & 17                  & oldpeak             &   0.55              &  1                  & NA                 \\\\\n",
       "\t  0                  &  0                  & NA                  &   0.00              & -1                  & Disease            \\\\\n",
       "\t 18                  & 19                  & chol                & 233.50              &  1                  & NA                 \\\\\n",
       "\t  0                  &  0                  & NA                  &   0.00              & -1                  & Disease            \\\\\n",
       "\t 20                  & 21                  & sex                 &   1.00              &  1                  & NA                 \\\\\n",
       "\t 22                  & 23                  & chol                & 308.50              &  1                  & NA                 \\\\\n",
       "\t 24                      & 25                      & Rest\\_blood\\_pressure & 164.00                  &  1                      & NA                     \\\\\n",
       "\t 26                  & 27                  & chol                & 249.50              &  1                  & NA                 \\\\\n",
       "\t 28                  & 29                  & chol                & 232.00              &  1                  & NA                 \\\\\n",
       "\t 30                  & 31                  & age                 &  58.50              &  1                  & NA                 \\\\\n",
       "\t  0                  &  0                  & NA                  &   0.00              & -1                  & No\\_Disease       \\\\\n",
       "\t 32                      & 33                      & Rest\\_blood\\_pressure & 146.00                  &  1                      & NA                     \\\\\n",
       "\t  0                  &  0                  & NA                  &   0.00              & -1                  & No\\_Disease       \\\\\n",
       "\t 34                  & 35                  & age                 &  39.50              &  1                  & NA                 \\\\\n",
       "\t 36                      & 37                      & Max\\_heart\\_rate      & 175.50                  &  1                      & NA                     \\\\\n",
       "\t  0                  &  0                  & NA                  &   0.00              & -1                  & No\\_Disease       \\\\\n",
       "\t  0                  &  0                  & NA                  &   0.00              & -1                  & Disease            \\\\\n",
       "\t  0                  &  0                  & NA                  &   0.00              & -1                  & No\\_Disease       \\\\\n",
       "\t  0                  &  0                  & NA                  &   0.00              & -1                  & Disease            \\\\\n",
       "\t 38                    & 39                    & Chest\\_Pain          &   1.00                &  1                    & NA                   \\\\\n",
       "\t  0                  &  0                  & NA                  &   0.00              & -1                  & No\\_Disease       \\\\\n",
       "\t 40                      & 41                      & Max\\_heart\\_rate      & 161.00                  &  1                      & NA                     \\\\\n",
       "\t ... & ... & ... & ... & ... & ...\\\\\n",
       "\t 42                      & 43                      & Rest\\_blood\\_pressure & 132.00                  &  1                      & NA                     \\\\\n",
       "\t 44                  & 45                  & Slope               &   1.00              &  1                  & NA                 \\\\\n",
       "\t  0                  &  0                  & NA                  &   0.00              & -1                  & No\\_Disease       \\\\\n",
       "\t  0                  &  0                  & NA                  &   0.00              & -1                  & Disease            \\\\\n",
       "\t  0                  &  0                  & NA                  &   0.00              & -1                  & No\\_Disease       \\\\\n",
       "\t  0                  &  0                  & NA                  &   0.00              & -1                  & Disease            \\\\\n",
       "\t  0                  &  0                  & NA                  &   0.00              & -1                  & Disease            \\\\\n",
       "\t 46                      & 47                      & Fast\\_blood\\_sugar    &   1.00                  &  1                      & NA                     \\\\\n",
       "\t  0                  &  0                  & NA                  &   0.00              & -1                  & No\\_Disease       \\\\\n",
       "\t  0                  &  0                  & NA                  &   0.00              & -1                  & Disease            \\\\\n",
       "\t 48                  & 49                  & age                 &  47.00              &  1                  & NA                 \\\\\n",
       "\t 50                    & 51                    & thall\\_Rate          &   3.00                &  1                    & NA                   \\\\\n",
       "\t  0                  &  0                  & NA                  &   0.00              & -1                  & No\\_Disease       \\\\\n",
       "\t  0                  &  0                  & NA                  &   0.00              & -1                  & Disease            \\\\\n",
       "\t  0                  &  0                  & NA                  &   0.00              & -1                  & Disease            \\\\\n",
       "\t  0                  &  0                  & NA                  &   0.00              & -1                  & No\\_Disease       \\\\\n",
       "\t 52                    & 53                    & Chest\\_Pain          &   4.00                &  1                    & NA                   \\\\\n",
       "\t 54                    & 55                    & Chest\\_Pain          &   1.00                &  1                    & NA                   \\\\\n",
       "\t 56                  & 57                  & oldpeak             &   0.05              &  1                  & NA                 \\\\\n",
       "\t  0                  &  0                  & NA                  &   0.00              & -1                  & Disease            \\\\\n",
       "\t 58                  & 59                  & chol                & 255.00              &  1                  & NA                 \\\\\n",
       "\t  0                  &  0                  & NA                  &   0.00              & -1                  & Disease            \\\\\n",
       "\t 60                      & 61                      & Max\\_heart\\_rate      & 154.00                  &  1                      & NA                     \\\\\n",
       "\t  0                  &  0                  & NA                  &   0.00              & -1                  & Disease            \\\\\n",
       "\t 62                    & 63                    & Resting\\_result      &   2.00                &  1                    & NA                   \\\\\n",
       "\t  0                  &  0                  & NA                  &   0.00              & -1                  & No\\_Disease       \\\\\n",
       "\t  0                  &  0                  & NA                  &   0.00              & -1                  & No\\_Disease       \\\\\n",
       "\t  0                  &  0                  & NA                  &   0.00              & -1                  & Disease            \\\\\n",
       "\t  0                  &  0                  & NA                  &   0.00              & -1                  & Disease            \\\\\n",
       "\t  0                  &  0                  & NA                  &   0.00              & -1                  & No\\_Disease       \\\\\n",
       "\\end{tabular}\n"
      ],
      "text/markdown": [
       "\n",
       "| left daughter | right daughter | split var | split point | status | prediction |\n",
       "|---|---|---|---|---|---|\n",
       "|  2                  |  3                  | Number_.of_vessel   |  14.00              |  1                  | NA                  |\n",
       "|  4                  |  5                  | Slope               |   3.00              |  1                  | NA                  |\n",
       "|  6                  |  7                  | Max_heart_rate      | 129.50              |  1                  | NA                  |\n",
       "|  8                  |  9                  | age                 |  45.50              |  1                  | NA                  |\n",
       "| 10                  | 11                  | sex                 |   1.00              |  1                  | NA                  |\n",
       "| 12                  | 13                  | Chest_Pain          |   4.00              |  1                  | NA                  |\n",
       "| 14                  | 15                  | oldpeak             |   2.60              |  1                  | NA                  |\n",
       "|  0                  |  0                  | NA                  |   0.00              | -1                  | Disease             |\n",
       "| 16                  | 17                  | oldpeak             |   0.55              |  1                  | NA                  |\n",
       "|  0                  |  0                  | NA                  |   0.00              | -1                  | Disease             |\n",
       "| 18                  | 19                  | chol                | 233.50              |  1                  | NA                  |\n",
       "|  0                  |  0                  | NA                  |   0.00              | -1                  | Disease             |\n",
       "| 20                  | 21                  | sex                 |   1.00              |  1                  | NA                  |\n",
       "| 22                  | 23                  | chol                | 308.50              |  1                  | NA                  |\n",
       "| 24                  | 25                  | Rest_blood_pressure | 164.00              |  1                  | NA                  |\n",
       "| 26                  | 27                  | chol                | 249.50              |  1                  | NA                  |\n",
       "| 28                  | 29                  | chol                | 232.00              |  1                  | NA                  |\n",
       "| 30                  | 31                  | age                 |  58.50              |  1                  | NA                  |\n",
       "|  0                  |  0                  | NA                  |   0.00              | -1                  | No_Disease          |\n",
       "| 32                  | 33                  | Rest_blood_pressure | 146.00              |  1                  | NA                  |\n",
       "|  0                  |  0                  | NA                  |   0.00              | -1                  | No_Disease          |\n",
       "| 34                  | 35                  | age                 |  39.50              |  1                  | NA                  |\n",
       "| 36                  | 37                  | Max_heart_rate      | 175.50              |  1                  | NA                  |\n",
       "|  0                  |  0                  | NA                  |   0.00              | -1                  | No_Disease          |\n",
       "|  0                  |  0                  | NA                  |   0.00              | -1                  | Disease             |\n",
       "|  0                  |  0                  | NA                  |   0.00              | -1                  | No_Disease          |\n",
       "|  0                  |  0                  | NA                  |   0.00              | -1                  | Disease             |\n",
       "| 38                  | 39                  | Chest_Pain          |   1.00              |  1                  | NA                  |\n",
       "|  0                  |  0                  | NA                  |   0.00              | -1                  | No_Disease          |\n",
       "| 40                  | 41                  | Max_heart_rate      | 161.00              |  1                  | NA                  |\n",
       "| ... | ... | ... | ... | ... | ... |\n",
       "| 42                  | 43                  | Rest_blood_pressure | 132.00              |  1                  | NA                  |\n",
       "| 44                  | 45                  | Slope               |   1.00              |  1                  | NA                  |\n",
       "|  0                  |  0                  | NA                  |   0.00              | -1                  | No_Disease          |\n",
       "|  0                  |  0                  | NA                  |   0.00              | -1                  | Disease             |\n",
       "|  0                  |  0                  | NA                  |   0.00              | -1                  | No_Disease          |\n",
       "|  0                  |  0                  | NA                  |   0.00              | -1                  | Disease             |\n",
       "|  0                  |  0                  | NA                  |   0.00              | -1                  | Disease             |\n",
       "| 46                  | 47                  | Fast_blood_sugar    |   1.00              |  1                  | NA                  |\n",
       "|  0                  |  0                  | NA                  |   0.00              | -1                  | No_Disease          |\n",
       "|  0                  |  0                  | NA                  |   0.00              | -1                  | Disease             |\n",
       "| 48                  | 49                  | age                 |  47.00              |  1                  | NA                  |\n",
       "| 50                  | 51                  | thall_Rate          |   3.00              |  1                  | NA                  |\n",
       "|  0                  |  0                  | NA                  |   0.00              | -1                  | No_Disease          |\n",
       "|  0                  |  0                  | NA                  |   0.00              | -1                  | Disease             |\n",
       "|  0                  |  0                  | NA                  |   0.00              | -1                  | Disease             |\n",
       "|  0                  |  0                  | NA                  |   0.00              | -1                  | No_Disease          |\n",
       "| 52                  | 53                  | Chest_Pain          |   4.00              |  1                  | NA                  |\n",
       "| 54                  | 55                  | Chest_Pain          |   1.00              |  1                  | NA                  |\n",
       "| 56                  | 57                  | oldpeak             |   0.05              |  1                  | NA                  |\n",
       "|  0                  |  0                  | NA                  |   0.00              | -1                  | Disease             |\n",
       "| 58                  | 59                  | chol                | 255.00              |  1                  | NA                  |\n",
       "|  0                  |  0                  | NA                  |   0.00              | -1                  | Disease             |\n",
       "| 60                  | 61                  | Max_heart_rate      | 154.00              |  1                  | NA                  |\n",
       "|  0                  |  0                  | NA                  |   0.00              | -1                  | Disease             |\n",
       "| 62                  | 63                  | Resting_result      |   2.00              |  1                  | NA                  |\n",
       "|  0                  |  0                  | NA                  |   0.00              | -1                  | No_Disease          |\n",
       "|  0                  |  0                  | NA                  |   0.00              | -1                  | No_Disease          |\n",
       "|  0                  |  0                  | NA                  |   0.00              | -1                  | Disease             |\n",
       "|  0                  |  0                  | NA                  |   0.00              | -1                  | Disease             |\n",
       "|  0                  |  0                  | NA                  |   0.00              | -1                  | No_Disease          |\n",
       "\n"
      ],
      "text/plain": [
       "    left daughter right daughter split var           split point status\n",
       "1    2             3             Number_.of_vessel    14.00       1    \n",
       "2    4             5             Slope                 3.00       1    \n",
       "3    6             7             Max_heart_rate      129.50       1    \n",
       "4    8             9             age                  45.50       1    \n",
       "5   10            11             sex                   1.00       1    \n",
       "6   12            13             Chest_Pain            4.00       1    \n",
       "7   14            15             oldpeak               2.60       1    \n",
       "8    0             0             NA                    0.00      -1    \n",
       "9   16            17             oldpeak               0.55       1    \n",
       "10   0             0             NA                    0.00      -1    \n",
       "11  18            19             chol                233.50       1    \n",
       "12   0             0             NA                    0.00      -1    \n",
       "13  20            21             sex                   1.00       1    \n",
       "14  22            23             chol                308.50       1    \n",
       "15  24            25             Rest_blood_pressure 164.00       1    \n",
       "16  26            27             chol                249.50       1    \n",
       "17  28            29             chol                232.00       1    \n",
       "18  30            31             age                  58.50       1    \n",
       "19   0             0             NA                    0.00      -1    \n",
       "20  32            33             Rest_blood_pressure 146.00       1    \n",
       "21   0             0             NA                    0.00      -1    \n",
       "22  34            35             age                  39.50       1    \n",
       "23  36            37             Max_heart_rate      175.50       1    \n",
       "24   0             0             NA                    0.00      -1    \n",
       "25   0             0             NA                    0.00      -1    \n",
       "26   0             0             NA                    0.00      -1    \n",
       "27   0             0             NA                    0.00      -1    \n",
       "28  38            39             Chest_Pain            1.00       1    \n",
       "29   0             0             NA                    0.00      -1    \n",
       "30  40            41             Max_heart_rate      161.00       1    \n",
       "... ...           ...            ...                 ...         ...   \n",
       "34  42            43             Rest_blood_pressure 132.00       1    \n",
       "35  44            45             Slope                 1.00       1    \n",
       "36   0             0             NA                    0.00      -1    \n",
       "37   0             0             NA                    0.00      -1    \n",
       "38   0             0             NA                    0.00      -1    \n",
       "39   0             0             NA                    0.00      -1    \n",
       "40   0             0             NA                    0.00      -1    \n",
       "41  46            47             Fast_blood_sugar      1.00       1    \n",
       "42   0             0             NA                    0.00      -1    \n",
       "43   0             0             NA                    0.00      -1    \n",
       "44  48            49             age                  47.00       1    \n",
       "45  50            51             thall_Rate            3.00       1    \n",
       "46   0             0             NA                    0.00      -1    \n",
       "47   0             0             NA                    0.00      -1    \n",
       "48   0             0             NA                    0.00      -1    \n",
       "49   0             0             NA                    0.00      -1    \n",
       "50  52            53             Chest_Pain            4.00       1    \n",
       "51  54            55             Chest_Pain            1.00       1    \n",
       "52  56            57             oldpeak               0.05       1    \n",
       "53   0             0             NA                    0.00      -1    \n",
       "54  58            59             chol                255.00       1    \n",
       "55   0             0             NA                    0.00      -1    \n",
       "56  60            61             Max_heart_rate      154.00       1    \n",
       "57   0             0             NA                    0.00      -1    \n",
       "58  62            63             Resting_result        2.00       1    \n",
       "59   0             0             NA                    0.00      -1    \n",
       "60   0             0             NA                    0.00      -1    \n",
       "61   0             0             NA                    0.00      -1    \n",
       "62   0             0             NA                    0.00      -1    \n",
       "63   0             0             NA                    0.00      -1    \n",
       "    prediction\n",
       "1   NA        \n",
       "2   NA        \n",
       "3   NA        \n",
       "4   NA        \n",
       "5   NA        \n",
       "6   NA        \n",
       "7   NA        \n",
       "8   Disease   \n",
       "9   NA        \n",
       "10  Disease   \n",
       "11  NA        \n",
       "12  Disease   \n",
       "13  NA        \n",
       "14  NA        \n",
       "15  NA        \n",
       "16  NA        \n",
       "17  NA        \n",
       "18  NA        \n",
       "19  No_Disease\n",
       "20  NA        \n",
       "21  No_Disease\n",
       "22  NA        \n",
       "23  NA        \n",
       "24  No_Disease\n",
       "25  Disease   \n",
       "26  No_Disease\n",
       "27  Disease   \n",
       "28  NA        \n",
       "29  No_Disease\n",
       "30  NA        \n",
       "... ...       \n",
       "34  NA        \n",
       "35  NA        \n",
       "36  No_Disease\n",
       "37  Disease   \n",
       "38  No_Disease\n",
       "39  Disease   \n",
       "40  Disease   \n",
       "41  NA        \n",
       "42  No_Disease\n",
       "43  Disease   \n",
       "44  NA        \n",
       "45  NA        \n",
       "46  No_Disease\n",
       "47  Disease   \n",
       "48  Disease   \n",
       "49  No_Disease\n",
       "50  NA        \n",
       "51  NA        \n",
       "52  NA        \n",
       "53  Disease   \n",
       "54  NA        \n",
       "55  Disease   \n",
       "56  NA        \n",
       "57  Disease   \n",
       "58  NA        \n",
       "59  No_Disease\n",
       "60  No_Disease\n",
       "61  Disease   \n",
       "62  Disease   \n",
       "63  No_Disease"
      ]
     },
     "metadata": {},
     "output_type": "display_data"
    }
   ],
   "source": [
    "getTree(rf, 1, labelVar = TRUE)"
   ]
  },
  {
   "cell_type": "code",
   "execution_count": 35,
   "metadata": {},
   "outputs": [
    {
     "name": "stderr",
     "output_type": "stream",
     "text": [
      "Warning message in RColorBrewer::brewer.pal(nlevs, \"Set1\"):\n",
      "\"minimal value for n is 3, returning requested palette with 3 different levels\n",
      "\""
     ]
    },
    {
     "data": {
      "image/png": "[encoded data removed]",
      "text/plain": [
       "plot without title"
      ]
     },
     "metadata": {},
     "output_type": "display_data"
    }
   ],
   "source": [
    "MDSplot(rf, trainSet$output)"
   ]
  },
  {
   "cell_type": "markdown",
   "metadata": {},
   "source": [
    "### Logistic Regression"
   ]
  },
  {
   "cell_type": "code",
   "execution_count": 36,
   "metadata": {},
   "outputs": [
    {
     "data": {
      "text/plain": [
       "\n",
       "Call:\n",
       "glm(formula = output ~ sex, family = \"binomial\", data = heart)\n",
       "\n",
       "Deviance Residuals: \n",
       "    Min       1Q   Median       3Q      Max  \n",
       "-1.6651  -1.0923   0.7585   1.2650   1.2650  \n",
       "\n",
       "Coefficients:\n",
       "            Estimate Std. Error z value Pr(>|z|)    \n",
       "(Intercept)   1.0986     0.2357   4.661 3.15e-06 ***\n",
       "sexMale      -1.3022     0.2740  -4.752 2.01e-06 ***\n",
       "---\n",
       "Signif. codes:  0 '***' 0.001 '**' 0.01 '*' 0.05 '.' 0.1 ' ' 1\n",
       "\n",
       "(Dispersion parameter for binomial family taken to be 1)\n",
       "\n",
       "    Null deviance: 417.64  on 302  degrees of freedom\n",
       "Residual deviance: 392.80  on 301  degrees of freedom\n",
       "AIC: 396.8\n",
       "\n",
       "Number of Fisher Scoring iterations: 4\n"
      ]
     },
     "metadata": {},
     "output_type": "display_data"
    }
   ],
   "source": [
    "logistic <- glm(output ~ sex, data=heart, family=\"binomial\")\n",
    "summary(logistic)"
   ]
  },
  {
   "cell_type": "code",
   "execution_count": 37,
   "metadata": {},
   "outputs": [
    {
     "data": {
      "text/html": [
       "-1.09861228866811"
      ],
      "text/latex": [
       "-1.09861228866811"
      ],
      "text/markdown": [
       "-1.09861228866811"
      ],
      "text/plain": [
       "[1] -1.098612"
      ]
     },
     "metadata": {},
     "output_type": "display_data"
    }
   ],
   "source": [
    "female.log.odds <- log(24 / 72) #this info is coming from xTAbs above where it mentions output~sex \n",
    "female.log.odds"
   ]
  },
  {
   "cell_type": "code",
   "execution_count": 38,
   "metadata": {},
   "outputs": [
    {
     "data": {
      "text/html": [
       "1.30221124390935"
      ],
      "text/latex": [
       "1.30221124390935"
      ],
      "text/markdown": [
       "1.30221124390935"
      ],
      "text/plain": [
       "[1] 1.302211"
      ]
     },
     "metadata": {},
     "output_type": "display_data"
    }
   ],
   "source": [
    "male.log.odds.ratio <- log((114 / 93) / (24/72)) #this info is coming from xTAbs above where it mentions output~sex\n",
    "male.log.odds.ratio"
   ]
  },
  {
   "cell_type": "code",
   "execution_count": 39,
   "metadata": {},
   "outputs": [],
   "source": [
    "ll.null <- logistic$null.deviance/-2\n",
    "ll.proposed <- logistic$deviance/-2"
   ]
  },
  {
   "cell_type": "code",
   "execution_count": 40,
   "metadata": {},
   "outputs": [
    {
     "data": {
      "text/html": [
       "0.0594794464595574"
      ],
      "text/latex": [
       "0.0594794464595574"
      ],
      "text/markdown": [
       "0.0594794464595574"
      ],
      "text/plain": [
       "[1] 0.05947945"
      ]
     },
     "metadata": {},
     "output_type": "display_data"
    }
   ],
   "source": [
    "(ll.null - ll.proposed) / ll.null"
   ]
  },
  {
   "cell_type": "code",
   "execution_count": 41,
   "metadata": {},
   "outputs": [
    {
     "data": {
      "text/html": [
       "6.22629070301528e-07"
      ],
      "text/latex": [
       "6.22629070301528e-07"
      ],
      "text/markdown": [
       "6.22629070301528e-07"
      ],
      "text/plain": [
       "[1] 6.226291e-07"
      ]
     },
     "metadata": {},
     "output_type": "display_data"
    },
    {
     "data": {
      "text/html": [
       "6.22629070301528e-07"
      ],
      "text/latex": [
       "6.22629070301528e-07"
      ],
      "text/markdown": [
       "6.22629070301528e-07"
      ],
      "text/plain": [
       "[1] 6.226291e-07"
      ]
     },
     "metadata": {},
     "output_type": "display_data"
    }
   ],
   "source": [
    "1 - pchisq(2*(ll.proposed - ll.null), df=1)\n",
    "1 - pchisq((logistic$null.deviance - logistic$deviance), df=1)"
   ]
  },
  {
   "cell_type": "code",
   "execution_count": 42,
   "metadata": {},
   "outputs": [],
   "source": [
    "predicted.data <- data.frame(\n",
    "  probability.of.output=logistic$fitted.values,\n",
    "  sex=heart$sex)"
   ]
  },
  {
   "cell_type": "code",
   "execution_count": 43,
   "metadata": {},
   "outputs": [
    {
     "data": {
      "image/png": "[encoded data removed]",
      "text/plain": [
       "plot without title"
      ]
     },
     "metadata": {},
     "output_type": "display_data"
    }
   ],
   "source": [
    "ggplot(data=predicted.data, aes(x=sex, y=probability.of.output)) +\n",
    "  geom_point(aes(color=sex), size=5) +\n",
    "  xlab(\"Sex\") +\n",
    "  ylab(\"Getting heart disease or even a stroke\")\n",
    " \n",
    "#looks like males have a better in getting this as you can see below there value is almost super close to 0"
   ]
  },
  {
   "cell_type": "code",
   "execution_count": 44,
   "metadata": {},
   "outputs": [
    {
     "ename": "ERROR",
     "evalue": "Error in parse(text = x, srcfile = src): <text>:1:2: unexpected symbol\n1: 5xtabs\n     ^\n",
     "output_type": "error",
     "traceback": [
      "Error in parse(text = x, srcfile = src): <text>:1:2: unexpected symbol\n1: 5xtabs\n     ^\nTraceback:\n"
     ]
    }
   ],
   "source": [
    "5xtabs(~ probability.of.output + sex, data=predicted.data) #75% change males will get it, 45 female"
   ]
  },
  {
   "cell_type": "code",
   "execution_count": null,
   "metadata": {},
   "outputs": [],
   "source": [
    "logistic <- glm(output ~ ., data=heart, family=\"binomial\")\n",
    "summary(logistic)"
   ]
  },
  {
   "cell_type": "code",
   "execution_count": null,
   "metadata": {},
   "outputs": [],
   "source": [
    "ll.null <- logistic$null.deviance/-2\n",
    "ll.proposed <- logistic$deviance/-2"
   ]
  },
  {
   "cell_type": "code",
   "execution_count": null,
   "metadata": {},
   "outputs": [],
   "source": [
    "(ll.null - ll.proposed) / ll.null"
   ]
  },
  {
   "cell_type": "code",
   "execution_count": null,
   "metadata": {},
   "outputs": [],
   "source": [
    "1 - pchisq(2*(ll.proposed - ll.null), df=(length(logistic$coefficients)-1))"
   ]
  },
  {
   "cell_type": "code",
   "execution_count": null,
   "metadata": {},
   "outputs": [],
   "source": [
    "predicted.data <- data.frame(\n",
    "  probability.of.output=logistic$fitted.values,\n",
    "  output=heart$output)"
   ]
  },
  {
   "cell_type": "code",
   "execution_count": null,
   "metadata": {},
   "outputs": [],
   "source": [
    "predicted.data <- predicted.data[\n",
    "  order(predicted.data$probability.of.output, decreasing=FALSE),]\n",
    "predicted.data$rank <- 1:nrow(predicted.data)"
   ]
  },
  {
   "cell_type": "code",
   "execution_count": null,
   "metadata": {},
   "outputs": [],
   "source": [
    "ggplot(data=predicted.data, aes(x=rank, y=probability.of.output)) +\n",
    "  geom_point(aes(color=output), alpha=1, shape=4, stroke=2) +\n",
    "  xlab(\"Participant\") +\n",
    "  ylab(\"Getting heart disease or even a stroke\")"
   ]
  },
  {
   "cell_type": "code",
   "execution_count": null,
   "metadata": {},
   "outputs": [],
   "source": []
  },
  {
   "cell_type": "code",
   "execution_count": null,
   "metadata": {},
   "outputs": [],
   "source": []
  }
 ],
 "metadata": {
  "kernelspec": {
   "display_name": "R",
   "language": "R",
   "name": "ir"
  },
  "language_info": {
   "codemirror_mode": "r",
   "file_extension": ".r",
   "mimetype": "text/x-r-source",
   "name": "R",
   "pygments_lexer": "r",
   "version": "3.6.1"
  }
 },
 "nbformat": 4,
 "nbformat_minor": 5
}
